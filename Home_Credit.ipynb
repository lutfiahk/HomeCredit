{
  "cells": [
    {
      "attachments": {},
      "cell_type": "markdown",
      "metadata": {},
      "source": [
        "## HOME CREDIT CLIENT PAYMENT PREDICTION"
      ]
    },
    {
      "attachments": {},
      "cell_type": "markdown",
      "metadata": {},
      "source": [
        "PT. HOME CREDIT merupakan suatu perusahaan perusahaan pembiayaan multiguna multinasional yang memberikan layanan pembiayaan bagi pelanggan. Terdapat banyak pengajuan credit yang masuk tetapi akan sangat menghabiskan banyak waktu jika harus dilakukan review pengajuan satu per satu secara manual. "
      ]
    },
    {
      "cell_type": "code",
      "execution_count": 98,
      "metadata": {},
      "outputs": [],
      "source": [
        "# Import Library\n",
        "import pandas as pd\n",
        "from sklearn import preprocessing\n",
        "import numpy as np\n",
        "import matplotlib.pyplot as plt\n",
        "import seaborn as sns\n",
        "from sklearn.preprocessing import StandardScaler"
      ]
    },
    {
      "cell_type": "code",
      "execution_count": 99,
      "metadata": {
        "id": "15fpE6E8R6_f"
      },
      "outputs": [
        {
          "data": {
            "text/html": [
              "<div>\n",
              "<style scoped>\n",
              "    .dataframe tbody tr th:only-of-type {\n",
              "        vertical-align: middle;\n",
              "    }\n",
              "\n",
              "    .dataframe tbody tr th {\n",
              "        vertical-align: top;\n",
              "    }\n",
              "\n",
              "    .dataframe thead th {\n",
              "        text-align: right;\n",
              "    }\n",
              "</style>\n",
              "<table border=\"1\" class=\"dataframe\">\n",
              "  <thead>\n",
              "    <tr style=\"text-align: right;\">\n",
              "      <th></th>\n",
              "      <th>SK_ID_CURR</th>\n",
              "      <th>TARGET</th>\n",
              "      <th>NAME_CONTRACT_TYPE</th>\n",
              "      <th>CODE_GENDER</th>\n",
              "      <th>FLAG_OWN_CAR</th>\n",
              "      <th>FLAG_OWN_REALTY</th>\n",
              "      <th>CNT_CHILDREN</th>\n",
              "      <th>AMT_INCOME_TOTAL</th>\n",
              "      <th>AMT_CREDIT</th>\n",
              "      <th>AMT_ANNUITY</th>\n",
              "      <th>...</th>\n",
              "      <th>FLAG_DOCUMENT_18</th>\n",
              "      <th>FLAG_DOCUMENT_19</th>\n",
              "      <th>FLAG_DOCUMENT_20</th>\n",
              "      <th>FLAG_DOCUMENT_21</th>\n",
              "      <th>AMT_REQ_CREDIT_BUREAU_HOUR</th>\n",
              "      <th>AMT_REQ_CREDIT_BUREAU_DAY</th>\n",
              "      <th>AMT_REQ_CREDIT_BUREAU_WEEK</th>\n",
              "      <th>AMT_REQ_CREDIT_BUREAU_MON</th>\n",
              "      <th>AMT_REQ_CREDIT_BUREAU_QRT</th>\n",
              "      <th>AMT_REQ_CREDIT_BUREAU_YEAR</th>\n",
              "    </tr>\n",
              "  </thead>\n",
              "  <tbody>\n",
              "    <tr>\n",
              "      <th>0</th>\n",
              "      <td>100002</td>\n",
              "      <td>1</td>\n",
              "      <td>Cash loans</td>\n",
              "      <td>M</td>\n",
              "      <td>N</td>\n",
              "      <td>Y</td>\n",
              "      <td>0</td>\n",
              "      <td>202500.0</td>\n",
              "      <td>406597.5</td>\n",
              "      <td>24700.5</td>\n",
              "      <td>...</td>\n",
              "      <td>0</td>\n",
              "      <td>0</td>\n",
              "      <td>0</td>\n",
              "      <td>0</td>\n",
              "      <td>0.0</td>\n",
              "      <td>0.0</td>\n",
              "      <td>0.0</td>\n",
              "      <td>0.0</td>\n",
              "      <td>0.0</td>\n",
              "      <td>1.0</td>\n",
              "    </tr>\n",
              "    <tr>\n",
              "      <th>1</th>\n",
              "      <td>100003</td>\n",
              "      <td>0</td>\n",
              "      <td>Cash loans</td>\n",
              "      <td>F</td>\n",
              "      <td>N</td>\n",
              "      <td>N</td>\n",
              "      <td>0</td>\n",
              "      <td>270000.0</td>\n",
              "      <td>1293502.5</td>\n",
              "      <td>35698.5</td>\n",
              "      <td>...</td>\n",
              "      <td>0</td>\n",
              "      <td>0</td>\n",
              "      <td>0</td>\n",
              "      <td>0</td>\n",
              "      <td>0.0</td>\n",
              "      <td>0.0</td>\n",
              "      <td>0.0</td>\n",
              "      <td>0.0</td>\n",
              "      <td>0.0</td>\n",
              "      <td>0.0</td>\n",
              "    </tr>\n",
              "    <tr>\n",
              "      <th>2</th>\n",
              "      <td>100004</td>\n",
              "      <td>0</td>\n",
              "      <td>Revolving loans</td>\n",
              "      <td>M</td>\n",
              "      <td>Y</td>\n",
              "      <td>Y</td>\n",
              "      <td>0</td>\n",
              "      <td>67500.0</td>\n",
              "      <td>135000.0</td>\n",
              "      <td>6750.0</td>\n",
              "      <td>...</td>\n",
              "      <td>0</td>\n",
              "      <td>0</td>\n",
              "      <td>0</td>\n",
              "      <td>0</td>\n",
              "      <td>0.0</td>\n",
              "      <td>0.0</td>\n",
              "      <td>0.0</td>\n",
              "      <td>0.0</td>\n",
              "      <td>0.0</td>\n",
              "      <td>0.0</td>\n",
              "    </tr>\n",
              "    <tr>\n",
              "      <th>3</th>\n",
              "      <td>100006</td>\n",
              "      <td>0</td>\n",
              "      <td>Cash loans</td>\n",
              "      <td>F</td>\n",
              "      <td>N</td>\n",
              "      <td>Y</td>\n",
              "      <td>0</td>\n",
              "      <td>135000.0</td>\n",
              "      <td>312682.5</td>\n",
              "      <td>29686.5</td>\n",
              "      <td>...</td>\n",
              "      <td>0</td>\n",
              "      <td>0</td>\n",
              "      <td>0</td>\n",
              "      <td>0</td>\n",
              "      <td>NaN</td>\n",
              "      <td>NaN</td>\n",
              "      <td>NaN</td>\n",
              "      <td>NaN</td>\n",
              "      <td>NaN</td>\n",
              "      <td>NaN</td>\n",
              "    </tr>\n",
              "  </tbody>\n",
              "</table>\n",
              "<p>4 rows × 122 columns</p>\n",
              "</div>"
            ],
            "text/plain": [
              "   SK_ID_CURR  TARGET NAME_CONTRACT_TYPE CODE_GENDER FLAG_OWN_CAR  \\\n",
              "0      100002       1         Cash loans           M            N   \n",
              "1      100003       0         Cash loans           F            N   \n",
              "2      100004       0    Revolving loans           M            Y   \n",
              "3      100006       0         Cash loans           F            N   \n",
              "\n",
              "  FLAG_OWN_REALTY  CNT_CHILDREN  AMT_INCOME_TOTAL  AMT_CREDIT  AMT_ANNUITY  \\\n",
              "0               Y             0          202500.0    406597.5      24700.5   \n",
              "1               N             0          270000.0   1293502.5      35698.5   \n",
              "2               Y             0           67500.0    135000.0       6750.0   \n",
              "3               Y             0          135000.0    312682.5      29686.5   \n",
              "\n",
              "   ...  FLAG_DOCUMENT_18 FLAG_DOCUMENT_19 FLAG_DOCUMENT_20 FLAG_DOCUMENT_21  \\\n",
              "0  ...                 0                0                0                0   \n",
              "1  ...                 0                0                0                0   \n",
              "2  ...                 0                0                0                0   \n",
              "3  ...                 0                0                0                0   \n",
              "\n",
              "  AMT_REQ_CREDIT_BUREAU_HOUR AMT_REQ_CREDIT_BUREAU_DAY  \\\n",
              "0                        0.0                       0.0   \n",
              "1                        0.0                       0.0   \n",
              "2                        0.0                       0.0   \n",
              "3                        NaN                       NaN   \n",
              "\n",
              "   AMT_REQ_CREDIT_BUREAU_WEEK  AMT_REQ_CREDIT_BUREAU_MON  \\\n",
              "0                         0.0                        0.0   \n",
              "1                         0.0                        0.0   \n",
              "2                         0.0                        0.0   \n",
              "3                         NaN                        NaN   \n",
              "\n",
              "   AMT_REQ_CREDIT_BUREAU_QRT  AMT_REQ_CREDIT_BUREAU_YEAR  \n",
              "0                        0.0                         1.0  \n",
              "1                        0.0                         0.0  \n",
              "2                        0.0                         0.0  \n",
              "3                        NaN                         NaN  \n",
              "\n",
              "[4 rows x 122 columns]"
            ]
          },
          "execution_count": 99,
          "metadata": {},
          "output_type": "execute_result"
        }
      ],
      "source": [
        "#importing data for modeling\n",
        "dataset = pd.read_csv('application.csv')\n",
        "dataset.head(4)"
      ]
    },
    {
      "cell_type": "code",
      "execution_count": 100,
      "metadata": {
        "colab": {
          "base_uri": "https://localhost:8080/"
        },
        "id": "Pfmzy4Q_SMn5",
        "outputId": "4e43cdfa-0fdb-46ac-9480-41a2364f6858"
      },
      "outputs": [
        {
          "name": "stdout",
          "output_type": "stream",
          "text": [
            "<class 'pandas.core.frame.DataFrame'>\n",
            "RangeIndex: 307511 entries, 0 to 307510\n",
            "Columns: 122 entries, SK_ID_CURR to AMT_REQ_CREDIT_BUREAU_YEAR\n",
            "dtypes: float64(65), int64(41), object(16)\n",
            "memory usage: 286.2+ MB\n"
          ]
        }
      ],
      "source": [
        "#Data Understanding\n",
        "dataset.info()"
      ]
    },
    {
      "attachments": {},
      "cell_type": "markdown",
      "metadata": {},
      "source": [
        "Terdapat 122 kolom data dengan 48744 record data, dimana setiap record data merupakan data dari seorang customer."
      ]
    },
    {
      "attachments": {},
      "cell_type": "markdown",
      "metadata": {},
      "source": [
        "#### Data Cleansing and Preprocessing"
      ]
    },
    {
      "attachments": {},
      "cell_type": "markdown",
      "metadata": {},
      "source": [
        "Pertama, untuk modeling akan dilakukan feature selection dengan memilih kolom/feature mana saja yang dianggap dapat merepresentasikan profil customer. \n",
        "Kami hanya akan menggunakan feature SK_ID_CURR, NAME_CONTRACT_TYPE, CODE_GENDER, FLAG_OWN_CAR, FLAG_OWN_REALTY, CNT_CHILDREN, AMT_INCOME_TOTAL, AMT_CREDIT, AMT_ANNUITY, AMT_GOODS_PRICE, NAME_INCOME_TYPE, NAME_EDUCATION_TYPE, NAME_FAMILY_STATUS, CNT_FAM_MEMBERS sebagai feature yang akan merepresentasikan client, dan fature TARGET sebagai label target yang akan diprediksi.\n",
        "\n",
        "Dimana client dengan label target 1 dianggap tidak dapat melakukan pembayaran, dan label target 0 dianggap dapat melakukan pembayaran."
      ]
    },
    {
      "cell_type": "code",
      "execution_count": 101,
      "metadata": {},
      "outputs": [],
      "source": [
        "# Feature Selection\n",
        "datamodel = dataset[['SK_ID_CURR', 'TARGET', 'NAME_CONTRACT_TYPE', 'CODE_GENDER', 'FLAG_OWN_CAR', 'FLAG_OWN_REALTY', 'CNT_CHILDREN', 'AMT_INCOME_TOTAL', 'AMT_CREDIT', 'AMT_ANNUITY', 'AMT_GOODS_PRICE', 'NAME_INCOME_TYPE', 'NAME_FAMILY_STATUS', 'CNT_FAM_MEMBERS']]"
      ]
    },
    {
      "cell_type": "code",
      "execution_count": 102,
      "metadata": {},
      "outputs": [
        {
          "data": {
            "text/html": [
              "<div>\n",
              "<style scoped>\n",
              "    .dataframe tbody tr th:only-of-type {\n",
              "        vertical-align: middle;\n",
              "    }\n",
              "\n",
              "    .dataframe tbody tr th {\n",
              "        vertical-align: top;\n",
              "    }\n",
              "\n",
              "    .dataframe thead th {\n",
              "        text-align: right;\n",
              "    }\n",
              "</style>\n",
              "<table border=\"1\" class=\"dataframe\">\n",
              "  <thead>\n",
              "    <tr style=\"text-align: right;\">\n",
              "      <th></th>\n",
              "      <th>level_0</th>\n",
              "      <th>index</th>\n",
              "      <th>0</th>\n",
              "    </tr>\n",
              "  </thead>\n",
              "  <tbody>\n",
              "    <tr>\n",
              "      <th>0</th>\n",
              "      <td>9</td>\n",
              "      <td>AMT_ANNUITY</td>\n",
              "      <td>12</td>\n",
              "    </tr>\n",
              "    <tr>\n",
              "      <th>1</th>\n",
              "      <td>10</td>\n",
              "      <td>AMT_GOODS_PRICE</td>\n",
              "      <td>278</td>\n",
              "    </tr>\n",
              "    <tr>\n",
              "      <th>2</th>\n",
              "      <td>13</td>\n",
              "      <td>CNT_FAM_MEMBERS</td>\n",
              "      <td>2</td>\n",
              "    </tr>\n",
              "  </tbody>\n",
              "</table>\n",
              "</div>"
            ],
            "text/plain": [
              "   level_0            index    0\n",
              "0        9      AMT_ANNUITY   12\n",
              "1       10  AMT_GOODS_PRICE  278\n",
              "2       13  CNT_FAM_MEMBERS    2"
            ]
          },
          "execution_count": 102,
          "metadata": {},
          "output_type": "execute_result"
        }
      ],
      "source": [
        "# Missing data handle\n",
        "isna = datamodel.isnull().sum().reset_index()\n",
        "isna = isna[isna[0] > 0].reset_index()\n",
        "isna"
      ]
    },
    {
      "attachments": {},
      "cell_type": "markdown",
      "metadata": {},
      "source": [
        "Terdapat 3 kolom data yang memiliki missing value. Karena banyak record data yang mengandung missing value tidak banyak dan banyak record dalam dataset dianggap cukup banyak, sehingga akan dihapus record data dengan missing value. Selain itu imputasi data dianggap tidak baik karena ditakutkan akan merusak dataset karena tidak sesuai dengan kenyataan lapangan."
      ]
    },
    {
      "cell_type": "code",
      "execution_count": 103,
      "metadata": {},
      "outputs": [
        {
          "data": {
            "text/plain": [
              "0"
            ]
          },
          "execution_count": 103,
          "metadata": {},
          "output_type": "execute_result"
        }
      ],
      "source": [
        "datamodel = datamodel.dropna()\n",
        "datamodel.isnull().sum().sum()"
      ]
    },
    {
      "attachments": {},
      "cell_type": "markdown",
      "metadata": {},
      "source": [
        "Dataset tidak lagi memiliki missing value."
      ]
    },
    {
      "attachments": {},
      "cell_type": "markdown",
      "metadata": {},
      "source": [
        "Pada dataset, terdapat client dengan gender XNA, client ini juga akan dihapus dari dataset karena tidak melengkapi data. "
      ]
    },
    {
      "cell_type": "code",
      "execution_count": 104,
      "metadata": {},
      "outputs": [],
      "source": [
        "datamodel = datamodel[datamodel['CODE_GENDER'] != 'XNA']"
      ]
    },
    {
      "cell_type": "code",
      "execution_count": 105,
      "metadata": {},
      "outputs": [
        {
          "data": {
            "text/plain": [
              "0"
            ]
          },
          "execution_count": 105,
          "metadata": {},
          "output_type": "execute_result"
        }
      ],
      "source": [
        "# Duplicated data handling\n",
        "datamodel.duplicated().sum()"
      ]
    },
    {
      "attachments": {},
      "cell_type": "markdown",
      "metadata": {},
      "source": [
        "Tidak terdapat data duplikat pada model"
      ]
    },
    {
      "cell_type": "code",
      "execution_count": 106,
      "metadata": {
        "colab": {
          "base_uri": "https://localhost:8080/"
        },
        "id": "QipFt6fqbFIl",
        "outputId": "55368968-abf3-4811-a016-b04207963a03"
      },
      "outputs": [
        {
          "name": "stdout",
          "output_type": "stream",
          "text": [
            "Data length before cleansing: 307511\n",
            "Data length after cleansing: 307217\n"
          ]
        }
      ],
      "source": [
        "# Checking data dimention\n",
        "print(\"Data length before cleansing:\", dataset.shape[0])\n",
        "\n",
        "#deleting the missing data train\n",
        "print(\"Data length after cleansing:\", datamodel.shape[0])"
      ]
    },
    {
      "cell_type": "code",
      "execution_count": 107,
      "metadata": {},
      "outputs": [
        {
          "data": {
            "text/html": [
              "<div>\n",
              "<style scoped>\n",
              "    .dataframe tbody tr th:only-of-type {\n",
              "        vertical-align: middle;\n",
              "    }\n",
              "\n",
              "    .dataframe tbody tr th {\n",
              "        vertical-align: top;\n",
              "    }\n",
              "\n",
              "    .dataframe thead th {\n",
              "        text-align: right;\n",
              "    }\n",
              "</style>\n",
              "<table border=\"1\" class=\"dataframe\">\n",
              "  <thead>\n",
              "    <tr style=\"text-align: right;\">\n",
              "      <th></th>\n",
              "      <th>SK_ID_CURR</th>\n",
              "      <th>TARGET</th>\n",
              "      <th>NAME_CONTRACT_TYPE</th>\n",
              "      <th>CODE_GENDER</th>\n",
              "      <th>FLAG_OWN_CAR</th>\n",
              "      <th>FLAG_OWN_REALTY</th>\n",
              "      <th>CNT_CHILDREN</th>\n",
              "      <th>AMT_INCOME_TOTAL</th>\n",
              "      <th>AMT_CREDIT</th>\n",
              "      <th>AMT_ANNUITY</th>\n",
              "      <th>AMT_GOODS_PRICE</th>\n",
              "      <th>NAME_INCOME_TYPE</th>\n",
              "      <th>NAME_FAMILY_STATUS</th>\n",
              "      <th>CNT_FAM_MEMBERS</th>\n",
              "    </tr>\n",
              "  </thead>\n",
              "  <tbody>\n",
              "    <tr>\n",
              "      <th>0</th>\n",
              "      <td>100002</td>\n",
              "      <td>1</td>\n",
              "      <td>Cash loans</td>\n",
              "      <td>M</td>\n",
              "      <td>N</td>\n",
              "      <td>Y</td>\n",
              "      <td>0</td>\n",
              "      <td>202500.0</td>\n",
              "      <td>406597.5</td>\n",
              "      <td>24700.5</td>\n",
              "      <td>351000.0</td>\n",
              "      <td>Working</td>\n",
              "      <td>Single / not married</td>\n",
              "      <td>1.0</td>\n",
              "    </tr>\n",
              "    <tr>\n",
              "      <th>1</th>\n",
              "      <td>100003</td>\n",
              "      <td>0</td>\n",
              "      <td>Cash loans</td>\n",
              "      <td>F</td>\n",
              "      <td>N</td>\n",
              "      <td>N</td>\n",
              "      <td>0</td>\n",
              "      <td>270000.0</td>\n",
              "      <td>1293502.5</td>\n",
              "      <td>35698.5</td>\n",
              "      <td>1129500.0</td>\n",
              "      <td>State servant</td>\n",
              "      <td>Married</td>\n",
              "      <td>2.0</td>\n",
              "    </tr>\n",
              "    <tr>\n",
              "      <th>2</th>\n",
              "      <td>100004</td>\n",
              "      <td>0</td>\n",
              "      <td>Revolving loans</td>\n",
              "      <td>M</td>\n",
              "      <td>Y</td>\n",
              "      <td>Y</td>\n",
              "      <td>0</td>\n",
              "      <td>67500.0</td>\n",
              "      <td>135000.0</td>\n",
              "      <td>6750.0</td>\n",
              "      <td>135000.0</td>\n",
              "      <td>Working</td>\n",
              "      <td>Single / not married</td>\n",
              "      <td>1.0</td>\n",
              "    </tr>\n",
              "    <tr>\n",
              "      <th>3</th>\n",
              "      <td>100006</td>\n",
              "      <td>0</td>\n",
              "      <td>Cash loans</td>\n",
              "      <td>F</td>\n",
              "      <td>N</td>\n",
              "      <td>Y</td>\n",
              "      <td>0</td>\n",
              "      <td>135000.0</td>\n",
              "      <td>312682.5</td>\n",
              "      <td>29686.5</td>\n",
              "      <td>297000.0</td>\n",
              "      <td>Working</td>\n",
              "      <td>Civil marriage</td>\n",
              "      <td>2.0</td>\n",
              "    </tr>\n",
              "    <tr>\n",
              "      <th>4</th>\n",
              "      <td>100007</td>\n",
              "      <td>0</td>\n",
              "      <td>Cash loans</td>\n",
              "      <td>M</td>\n",
              "      <td>N</td>\n",
              "      <td>Y</td>\n",
              "      <td>0</td>\n",
              "      <td>121500.0</td>\n",
              "      <td>513000.0</td>\n",
              "      <td>21865.5</td>\n",
              "      <td>513000.0</td>\n",
              "      <td>Working</td>\n",
              "      <td>Single / not married</td>\n",
              "      <td>1.0</td>\n",
              "    </tr>\n",
              "  </tbody>\n",
              "</table>\n",
              "</div>"
            ],
            "text/plain": [
              "   SK_ID_CURR  TARGET NAME_CONTRACT_TYPE CODE_GENDER FLAG_OWN_CAR  \\\n",
              "0      100002       1         Cash loans           M            N   \n",
              "1      100003       0         Cash loans           F            N   \n",
              "2      100004       0    Revolving loans           M            Y   \n",
              "3      100006       0         Cash loans           F            N   \n",
              "4      100007       0         Cash loans           M            N   \n",
              "\n",
              "  FLAG_OWN_REALTY  CNT_CHILDREN  AMT_INCOME_TOTAL  AMT_CREDIT  AMT_ANNUITY  \\\n",
              "0               Y             0          202500.0    406597.5      24700.5   \n",
              "1               N             0          270000.0   1293502.5      35698.5   \n",
              "2               Y             0           67500.0    135000.0       6750.0   \n",
              "3               Y             0          135000.0    312682.5      29686.5   \n",
              "4               Y             0          121500.0    513000.0      21865.5   \n",
              "\n",
              "   AMT_GOODS_PRICE NAME_INCOME_TYPE    NAME_FAMILY_STATUS  CNT_FAM_MEMBERS  \n",
              "0         351000.0          Working  Single / not married              1.0  \n",
              "1        1129500.0    State servant               Married              2.0  \n",
              "2         135000.0          Working  Single / not married              1.0  \n",
              "3         297000.0          Working        Civil marriage              2.0  \n",
              "4         513000.0          Working  Single / not married              1.0  "
            ]
          },
          "execution_count": 107,
          "metadata": {},
          "output_type": "execute_result"
        }
      ],
      "source": [
        "# Checking data sample\n",
        "datamodel.head()"
      ]
    },
    {
      "attachments": {},
      "cell_type": "markdown",
      "metadata": {},
      "source": [
        "Selanjutnya akan dilakukan feature encoding, dengan ketentuan :\n",
        "* NAME_CONTRACT_TYPE akan diganti dengan 0 untuk 'Cash loans', dan 1 untuk 'Revolving loans'\n",
        "* CODE_GENDER akan diganti dengan 0 untuk 'F', dan 1 untuk 'M'\n",
        "* FLAG_OWN_CAR akan diganti dengan 0 untuk 'N', dan 1 untuk 'Y'\n",
        "* FLAG_OWN_REALTY akan diganti dengan 0 untuk 'N', dan 1 untuk 'Y'\n",
        "* NAME_INCOME_TYPE akan diganti dengan 0 untuk 'Businessman', 'Commercial associate', 'State servant', 'Working', dan 1 untuk 'Maternity leave', 'Pensioner', 'Student','Unemployed'.\n",
        "* NAME_FAMILY_STATUS akan diganti dengan 0 untuk 'Separated', 'Single / not married', 'Widow', dan 1 untuk 'Civil marriage', 'Married'"
      ]
    },
    {
      "cell_type": "code",
      "execution_count": 108,
      "metadata": {},
      "outputs": [],
      "source": [
        "# Feature encoding\n",
        "datamodel['NAME_CONTRACT_TYPE'] = datamodel['NAME_CONTRACT_TYPE'].replace({'Cash loans' : 0, 'Revolving loans' : 1})\n",
        "datamodel['CODE_GENDER'] = datamodel['CODE_GENDER'].replace({'F' : 0, 'M' : 1})\n",
        "datamodel['FLAG_OWN_CAR'] = datamodel['FLAG_OWN_CAR'].replace({'N' : 0, 'Y' : 1})\n",
        "datamodel['FLAG_OWN_REALTY'] = datamodel['FLAG_OWN_REALTY'].replace({'N' : 0, 'Y' : 1})\n",
        "datamodel['NAME_INCOME_TYPE'] = datamodel['NAME_INCOME_TYPE'].replace({'Businessman' : 0, 'Commercial associate' : 0, 'State servant' : 0, 'Working' : 0, 'Maternity leave' : 1, 'Pensioner' : 1, 'Student' : 1, 'Unemployed' : 1})\n",
        "datamodel['NAME_FAMILY_STATUS'] = datamodel['NAME_FAMILY_STATUS'].replace({'Separated' : 0, 'Single / not married' : 0, 'Widow' : 0, 'Civil marriage' : 1, 'Married' : 1})\n"
      ]
    },
    {
      "cell_type": "code",
      "execution_count": 109,
      "metadata": {},
      "outputs": [
        {
          "data": {
            "text/html": [
              "<div>\n",
              "<style scoped>\n",
              "    .dataframe tbody tr th:only-of-type {\n",
              "        vertical-align: middle;\n",
              "    }\n",
              "\n",
              "    .dataframe tbody tr th {\n",
              "        vertical-align: top;\n",
              "    }\n",
              "\n",
              "    .dataframe thead th {\n",
              "        text-align: right;\n",
              "    }\n",
              "</style>\n",
              "<table border=\"1\" class=\"dataframe\">\n",
              "  <thead>\n",
              "    <tr style=\"text-align: right;\">\n",
              "      <th></th>\n",
              "      <th>SK_ID_CURR</th>\n",
              "      <th>TARGET</th>\n",
              "      <th>NAME_CONTRACT_TYPE</th>\n",
              "      <th>CODE_GENDER</th>\n",
              "      <th>FLAG_OWN_CAR</th>\n",
              "      <th>FLAG_OWN_REALTY</th>\n",
              "      <th>CNT_CHILDREN</th>\n",
              "      <th>AMT_INCOME_TOTAL</th>\n",
              "      <th>AMT_CREDIT</th>\n",
              "      <th>AMT_ANNUITY</th>\n",
              "      <th>AMT_GOODS_PRICE</th>\n",
              "      <th>NAME_INCOME_TYPE</th>\n",
              "      <th>NAME_FAMILY_STATUS</th>\n",
              "      <th>CNT_FAM_MEMBERS</th>\n",
              "    </tr>\n",
              "  </thead>\n",
              "  <tbody>\n",
              "    <tr>\n",
              "      <th>0</th>\n",
              "      <td>100002</td>\n",
              "      <td>1</td>\n",
              "      <td>0</td>\n",
              "      <td>1</td>\n",
              "      <td>0</td>\n",
              "      <td>1</td>\n",
              "      <td>0</td>\n",
              "      <td>202500.0</td>\n",
              "      <td>406597.5</td>\n",
              "      <td>24700.5</td>\n",
              "      <td>351000.0</td>\n",
              "      <td>0</td>\n",
              "      <td>0</td>\n",
              "      <td>1.0</td>\n",
              "    </tr>\n",
              "    <tr>\n",
              "      <th>1</th>\n",
              "      <td>100003</td>\n",
              "      <td>0</td>\n",
              "      <td>0</td>\n",
              "      <td>0</td>\n",
              "      <td>0</td>\n",
              "      <td>0</td>\n",
              "      <td>0</td>\n",
              "      <td>270000.0</td>\n",
              "      <td>1293502.5</td>\n",
              "      <td>35698.5</td>\n",
              "      <td>1129500.0</td>\n",
              "      <td>0</td>\n",
              "      <td>1</td>\n",
              "      <td>2.0</td>\n",
              "    </tr>\n",
              "    <tr>\n",
              "      <th>2</th>\n",
              "      <td>100004</td>\n",
              "      <td>0</td>\n",
              "      <td>1</td>\n",
              "      <td>1</td>\n",
              "      <td>1</td>\n",
              "      <td>1</td>\n",
              "      <td>0</td>\n",
              "      <td>67500.0</td>\n",
              "      <td>135000.0</td>\n",
              "      <td>6750.0</td>\n",
              "      <td>135000.0</td>\n",
              "      <td>0</td>\n",
              "      <td>0</td>\n",
              "      <td>1.0</td>\n",
              "    </tr>\n",
              "    <tr>\n",
              "      <th>3</th>\n",
              "      <td>100006</td>\n",
              "      <td>0</td>\n",
              "      <td>0</td>\n",
              "      <td>0</td>\n",
              "      <td>0</td>\n",
              "      <td>1</td>\n",
              "      <td>0</td>\n",
              "      <td>135000.0</td>\n",
              "      <td>312682.5</td>\n",
              "      <td>29686.5</td>\n",
              "      <td>297000.0</td>\n",
              "      <td>0</td>\n",
              "      <td>1</td>\n",
              "      <td>2.0</td>\n",
              "    </tr>\n",
              "    <tr>\n",
              "      <th>4</th>\n",
              "      <td>100007</td>\n",
              "      <td>0</td>\n",
              "      <td>0</td>\n",
              "      <td>1</td>\n",
              "      <td>0</td>\n",
              "      <td>1</td>\n",
              "      <td>0</td>\n",
              "      <td>121500.0</td>\n",
              "      <td>513000.0</td>\n",
              "      <td>21865.5</td>\n",
              "      <td>513000.0</td>\n",
              "      <td>0</td>\n",
              "      <td>0</td>\n",
              "      <td>1.0</td>\n",
              "    </tr>\n",
              "  </tbody>\n",
              "</table>\n",
              "</div>"
            ],
            "text/plain": [
              "   SK_ID_CURR  TARGET  NAME_CONTRACT_TYPE  CODE_GENDER  FLAG_OWN_CAR  \\\n",
              "0      100002       1                   0            1             0   \n",
              "1      100003       0                   0            0             0   \n",
              "2      100004       0                   1            1             1   \n",
              "3      100006       0                   0            0             0   \n",
              "4      100007       0                   0            1             0   \n",
              "\n",
              "   FLAG_OWN_REALTY  CNT_CHILDREN  AMT_INCOME_TOTAL  AMT_CREDIT  AMT_ANNUITY  \\\n",
              "0                1             0          202500.0    406597.5      24700.5   \n",
              "1                0             0          270000.0   1293502.5      35698.5   \n",
              "2                1             0           67500.0    135000.0       6750.0   \n",
              "3                1             0          135000.0    312682.5      29686.5   \n",
              "4                1             0          121500.0    513000.0      21865.5   \n",
              "\n",
              "   AMT_GOODS_PRICE  NAME_INCOME_TYPE  NAME_FAMILY_STATUS  CNT_FAM_MEMBERS  \n",
              "0         351000.0                 0                   0              1.0  \n",
              "1        1129500.0                 0                   1              2.0  \n",
              "2         135000.0                 0                   0              1.0  \n",
              "3         297000.0                 0                   1              2.0  \n",
              "4         513000.0                 0                   0              1.0  "
            ]
          },
          "execution_count": 109,
          "metadata": {},
          "output_type": "execute_result"
        }
      ],
      "source": [
        "# Checking data sample\n",
        "datamodel.head()"
      ]
    },
    {
      "attachments": {},
      "cell_type": "markdown",
      "metadata": {},
      "source": [
        "Kemudian dilakukan pemisahan feature dan labbel target prediksi"
      ]
    },
    {
      "cell_type": "code",
      "execution_count": 110,
      "metadata": {
        "id": "2jWiIQ9zbZfB"
      },
      "outputs": [],
      "source": [
        "#Data preparation\n",
        "#Splitting data train to features and target dataframe\n",
        "Feature = datamodel.drop(['SK_ID_CURR','TARGET'],axis=1)\n",
        "Target = datamodel['TARGET']"
      ]
    },
    {
      "cell_type": "code",
      "execution_count": 111,
      "metadata": {},
      "outputs": [
        {
          "name": "stdout",
          "output_type": "stream",
          "text": [
            "Shape of Feature :  (307217, 12)\n",
            "Shape of Target :  (307217,)\n"
          ]
        }
      ],
      "source": [
        "# Checking feature and target dataframe dimension\n",
        "print('Shape of Feature : ', Feature.shape)\n",
        "print('Shape of Target : ', Target.shape)"
      ]
    },
    {
      "attachments": {},
      "cell_type": "markdown",
      "metadata": {},
      "source": [
        "Selanjutnya akan dilakukan data splitting menjadi data train dan data test, dimana rasio yang digunakan adalah 70% data train, dan 30% data test"
      ]
    },
    {
      "cell_type": "code",
      "execution_count": 112,
      "metadata": {},
      "outputs": [],
      "source": [
        "#Data preparation\n",
        "#splitting data (80% data train and 20% data test) \n",
        "from sklearn.model_selection import train_test_split\n",
        "X_train, X_test, y_train, y_test = train_test_split(Feature, Target, test_size=0.30,random_state=0)"
      ]
    },
    {
      "cell_type": "code",
      "execution_count": 113,
      "metadata": {},
      "outputs": [
        {
          "name": "stdout",
          "output_type": "stream",
          "text": [
            "Shape of Feature of data train:  (215051, 12)\n",
            "Shape of Target of data train :  (215051,)\n",
            "Shape of Feature of data test:  (92166, 12)\n",
            "Shape of Target of data test :  (92166,)\n"
          ]
        }
      ],
      "source": [
        "# Checking Train and test dimension\n",
        "print('Shape of Feature of data train: ', X_train.shape)\n",
        "print('Shape of Target of data train : ', y_train.shape)\n",
        "print('Shape of Feature of data test: ', X_test.shape)\n",
        "print('Shape of Target of data test : ', y_test.shape)"
      ]
    },
    {
      "attachments": {},
      "cell_type": "markdown",
      "metadata": {},
      "source": [
        "Setelah itu akan dicek apakah data train memiliki outlier yang perlu dihandle. Checking dilakukan dengan kaidah IQR."
      ]
    },
    {
      "cell_type": "code",
      "execution_count": 114,
      "metadata": {},
      "outputs": [
        {
          "data": {
            "text/html": [
              "<div>\n",
              "<style scoped>\n",
              "    .dataframe tbody tr th:only-of-type {\n",
              "        vertical-align: middle;\n",
              "    }\n",
              "\n",
              "    .dataframe tbody tr th {\n",
              "        vertical-align: top;\n",
              "    }\n",
              "\n",
              "    .dataframe thead th {\n",
              "        text-align: right;\n",
              "    }\n",
              "</style>\n",
              "<table border=\"1\" class=\"dataframe\">\n",
              "  <thead>\n",
              "    <tr style=\"text-align: right;\">\n",
              "      <th></th>\n",
              "      <th>NAME_CONTRACT_TYPE</th>\n",
              "      <th>CODE_GENDER</th>\n",
              "      <th>FLAG_OWN_CAR</th>\n",
              "      <th>FLAG_OWN_REALTY</th>\n",
              "      <th>CNT_CHILDREN</th>\n",
              "      <th>AMT_INCOME_TOTAL</th>\n",
              "      <th>AMT_CREDIT</th>\n",
              "      <th>AMT_ANNUITY</th>\n",
              "      <th>AMT_GOODS_PRICE</th>\n",
              "      <th>NAME_INCOME_TYPE</th>\n",
              "      <th>NAME_FAMILY_STATUS</th>\n",
              "      <th>CNT_FAM_MEMBERS</th>\n",
              "    </tr>\n",
              "  </thead>\n",
              "  <tbody>\n",
              "    <tr>\n",
              "      <th>151965</th>\n",
              "      <td>1</td>\n",
              "      <td>1</td>\n",
              "      <td>1</td>\n",
              "      <td>1</td>\n",
              "      <td>1</td>\n",
              "      <td>103500.0</td>\n",
              "      <td>180000.0</td>\n",
              "      <td>9000.0</td>\n",
              "      <td>180000.0</td>\n",
              "      <td>0</td>\n",
              "      <td>1</td>\n",
              "      <td>3.0</td>\n",
              "    </tr>\n",
              "    <tr>\n",
              "      <th>112190</th>\n",
              "      <td>0</td>\n",
              "      <td>1</td>\n",
              "      <td>0</td>\n",
              "      <td>1</td>\n",
              "      <td>0</td>\n",
              "      <td>225000.0</td>\n",
              "      <td>343800.0</td>\n",
              "      <td>16155.0</td>\n",
              "      <td>225000.0</td>\n",
              "      <td>0</td>\n",
              "      <td>1</td>\n",
              "      <td>2.0</td>\n",
              "    </tr>\n",
              "    <tr>\n",
              "      <th>258615</th>\n",
              "      <td>0</td>\n",
              "      <td>0</td>\n",
              "      <td>0</td>\n",
              "      <td>1</td>\n",
              "      <td>0</td>\n",
              "      <td>90000.0</td>\n",
              "      <td>148365.0</td>\n",
              "      <td>10453.5</td>\n",
              "      <td>135000.0</td>\n",
              "      <td>1</td>\n",
              "      <td>0</td>\n",
              "      <td>1.0</td>\n",
              "    </tr>\n",
              "    <tr>\n",
              "      <th>139169</th>\n",
              "      <td>1</td>\n",
              "      <td>1</td>\n",
              "      <td>0</td>\n",
              "      <td>0</td>\n",
              "      <td>0</td>\n",
              "      <td>135000.0</td>\n",
              "      <td>270000.0</td>\n",
              "      <td>13500.0</td>\n",
              "      <td>270000.0</td>\n",
              "      <td>0</td>\n",
              "      <td>1</td>\n",
              "      <td>2.0</td>\n",
              "    </tr>\n",
              "    <tr>\n",
              "      <th>66289</th>\n",
              "      <td>0</td>\n",
              "      <td>0</td>\n",
              "      <td>1</td>\n",
              "      <td>1</td>\n",
              "      <td>0</td>\n",
              "      <td>171000.0</td>\n",
              "      <td>729396.0</td>\n",
              "      <td>49072.5</td>\n",
              "      <td>688500.0</td>\n",
              "      <td>0</td>\n",
              "      <td>1</td>\n",
              "      <td>2.0</td>\n",
              "    </tr>\n",
              "  </tbody>\n",
              "</table>\n",
              "</div>"
            ],
            "text/plain": [
              "        NAME_CONTRACT_TYPE  CODE_GENDER  FLAG_OWN_CAR  FLAG_OWN_REALTY  \\\n",
              "151965                   1            1             1                1   \n",
              "112190                   0            1             0                1   \n",
              "258615                   0            0             0                1   \n",
              "139169                   1            1             0                0   \n",
              "66289                    0            0             1                1   \n",
              "\n",
              "        CNT_CHILDREN  AMT_INCOME_TOTAL  AMT_CREDIT  AMT_ANNUITY  \\\n",
              "151965             1          103500.0    180000.0       9000.0   \n",
              "112190             0          225000.0    343800.0      16155.0   \n",
              "258615             0           90000.0    148365.0      10453.5   \n",
              "139169             0          135000.0    270000.0      13500.0   \n",
              "66289              0          171000.0    729396.0      49072.5   \n",
              "\n",
              "        AMT_GOODS_PRICE  NAME_INCOME_TYPE  NAME_FAMILY_STATUS  CNT_FAM_MEMBERS  \n",
              "151965         180000.0                 0                   1              3.0  \n",
              "112190         225000.0                 0                   1              2.0  \n",
              "258615         135000.0                 1                   0              1.0  \n",
              "139169         270000.0                 0                   1              2.0  \n",
              "66289          688500.0                 0                   1              2.0  "
            ]
          },
          "execution_count": 114,
          "metadata": {},
          "output_type": "execute_result"
        }
      ],
      "source": [
        "X_train.head()"
      ]
    },
    {
      "cell_type": "code",
      "execution_count": 115,
      "metadata": {},
      "outputs": [
        {
          "data": {
            "image/png": "[encoded data removed]",
            "text/plain": [
              "<Figure size 1800x900 with 6 Axes>"
            ]
          },
          "metadata": {},
          "output_type": "display_data"
        }
      ],
      "source": [
        "# Data Train BOX PLOT\n",
        "box_plot, axs = plt.subplots(ncols = 3, nrows=2, figsize=(18, 9))\n",
        "\n",
        "sns.boxplot(y = datamodel['AMT_INCOME_TOTAL'], ax = axs[0,0])\n",
        "axs[0,0].set_title('AMT_INCOME_TOTAL Distribution')\n",
        "sns.boxplot(y = datamodel['AMT_CREDIT'], ax = axs[0,1])\n",
        "axs[0,1].set_title('AMT_CREDIT Distribution')\n",
        "sns.boxplot(y = datamodel['AMT_ANNUITY'], ax = axs[0,2])\n",
        "axs[0,2].set_title('AMT_ANNUITY Distribution')\n",
        "sns.boxplot(y = datamodel['AMT_GOODS_PRICE'], ax = axs[1,0])\n",
        "axs[1,0].set_title('AMT_GOODS_PRICE Distribution')\n",
        "sns.boxplot(y = datamodel['CNT_FAM_MEMBERS'], ax = axs[1,1])\n",
        "axs[1,1].set_title('CNT_FAM_MEMBERS Distribution')\n",
        "\n",
        "box_plot.subplots_adjust(hspace=0.3)"
      ]
    },
    {
      "attachments": {},
      "cell_type": "markdown",
      "metadata": {},
      "source": [
        "Terdapat banyak data yang berada di luar loer dan upper bound tiap featurenya. Kemudian data tersebut akan dihapus dar data train."
      ]
    },
    {
      "cell_type": "code",
      "execution_count": 116,
      "metadata": {},
      "outputs": [
        {
          "name": "stdout",
          "output_type": "stream",
          "text": [
            "<class 'pandas.core.frame.DataFrame'>\n",
            "Int64Index: 215051 entries, 151965 to 306003\n",
            "Data columns (total 13 columns):\n",
            " #   Column              Non-Null Count   Dtype  \n",
            "---  ------              --------------   -----  \n",
            " 0   NAME_CONTRACT_TYPE  215051 non-null  int64  \n",
            " 1   CODE_GENDER         215051 non-null  int64  \n",
            " 2   FLAG_OWN_CAR        215051 non-null  int64  \n",
            " 3   FLAG_OWN_REALTY     215051 non-null  int64  \n",
            " 4   CNT_CHILDREN        215051 non-null  int64  \n",
            " 5   AMT_INCOME_TOTAL    215051 non-null  float64\n",
            " 6   AMT_CREDIT          215051 non-null  float64\n",
            " 7   AMT_ANNUITY         215051 non-null  float64\n",
            " 8   AMT_GOODS_PRICE     215051 non-null  float64\n",
            " 9   NAME_INCOME_TYPE    215051 non-null  int64  \n",
            " 10  NAME_FAMILY_STATUS  215051 non-null  int64  \n",
            " 11  CNT_FAM_MEMBERS     215051 non-null  float64\n",
            " 12  TARGET              215051 non-null  int64  \n",
            "dtypes: float64(5), int64(8)\n",
            "memory usage: 23.0 MB\n"
          ]
        }
      ],
      "source": [
        "# Dilakukan merge feature dan target dari data train terlebih dahulu sebelum dihapus outlier\n",
        "merge_train = pd.concat([X_train,y_train], axis = 1)\n",
        "merge_train.info()"
      ]
    },
    {
      "cell_type": "code",
      "execution_count": 117,
      "metadata": {},
      "outputs": [
        {
          "name": "stdout",
          "output_type": "stream",
          "text": [
            "Jumlah baris sebelum memfilter outlier : 215051\n",
            "Jumlah baris setelah memfilter outlier : 212287\n"
          ]
        }
      ],
      "source": [
        "# Outliers handling\n",
        "print(f'Jumlah baris sebelum memfilter outlier : {len(X_train)}')\n",
        "nums = ['AMT_INCOME_TOTAL', 'AMT_CREDIT', 'AMT_ANNUITY', 'AMT_GOODS_PRICE', 'CNT_FAM_MEMBERS']\n",
        "for i in nums:\n",
        "    q1 = merge_train[i].quantile(0.25)\n",
        "    q3 = merge_train[i].quantile(0.75)\n",
        "    iqr = q3 - q1\n",
        "    low_limit = q1 - (1.5 * iqr)\n",
        "    high_limit = q3 + (1.5 * iqr)\n",
        "    filtered_entries = ((merge_train[i] >= low_limit) & (merge_train[i] <= high_limit))\n",
        "    \n",
        "merge_train = merge_train[filtered_entries] #filter untuk hanya mengambil value z-score < 3\n",
        "\n",
        "print(f'Jumlah baris setelah memfilter outlier : {len(merge_train)}')"
      ]
    },
    {
      "cell_type": "code",
      "execution_count": 118,
      "metadata": {},
      "outputs": [],
      "source": [
        "# memisahkan dataset train kembali\n",
        "X_train = merge_train.drop('TARGET',axis = 1)\n",
        "y_train = merge_train['TARGET']"
      ]
    },
    {
      "attachments": {},
      "cell_type": "markdown",
      "metadata": {},
      "source": [
        "Kemudian akan dilakukan feature transformation yaitu dilakukan standarisasi untuk kolom numerik"
      ]
    },
    {
      "cell_type": "code",
      "execution_count": 119,
      "metadata": {
        "id": "GnfuVi3PlaGa"
      },
      "outputs": [],
      "source": [
        "# Feature Transformation\n",
        "ss = StandardScaler()\n",
        "\n",
        "for i in nums:\n",
        "    scaler = ss.fit(X_train[[i]])\n",
        "    X_train[i] = scaler.transform(X_train[[i]])\n",
        "    scaler2 = ss.fit(X_test[[i]])\n",
        "    X_test[i] = scaler2.transform(X_test[[i]])"
      ]
    },
    {
      "cell_type": "code",
      "execution_count": 120,
      "metadata": {
        "colab": {
          "base_uri": "https://localhost:8080/"
        },
        "id": "vQfuVlEqcPN4",
        "outputId": "9bdbd6e7-e5f4-4979-c8d3-c447f055a1ea"
      },
      "outputs": [
        {
          "name": "stdout",
          "output_type": "stream",
          "text": [
            "Data train shape: (212287, 12)\n",
            "Target train shape: (212287,)\n",
            "Data test shape: (92166, 12)\n",
            "Target test shape: (92166,)\n"
          ]
        }
      ],
      "source": [
        "#Checking the length of data train and data test\n",
        "print('Data train shape:', X_train.shape)\n",
        "print('Target train shape:', y_train.shape)\n",
        "print('Data test shape:', X_test.shape)\n",
        "print('Target test shape:', y_test.shape)"
      ]
    },
    {
      "attachments": {},
      "cell_type": "markdown",
      "metadata": {},
      "source": [
        "Akan dilakukan checking apakah terdapat imbalance class pada data train"
      ]
    },
    {
      "cell_type": "code",
      "execution_count": 121,
      "metadata": {
        "colab": {
          "base_uri": "https://localhost:8080/",
          "height": 248
        },
        "id": "YFyfQfkoccd_",
        "outputId": "d9f5d3ff-774e-442b-e629-d36c75b13bac"
      },
      "outputs": [
        {
          "data": {
            "image/png": "[encoded data removed]",
            "text/plain": [
              "<Figure size 640x480 with 1 Axes>"
            ]
          },
          "metadata": {},
          "output_type": "display_data"
        }
      ],
      "source": [
        "#Data Train's TARGET distribution\n",
        "y_train.value_counts().plot(kind='pie')\n",
        "plt.show()"
      ]
    },
    {
      "attachments": {},
      "cell_type": "markdown",
      "metadata": {},
      "source": [
        "Ternyata terdapat kasus imbalance class pada data train dengan rasio 1 dan 0 yang sangat ekstrim, sehingga akan dilakukan handling dengan metode SMOTE."
      ]
    },
    {
      "cell_type": "code",
      "execution_count": 122,
      "metadata": {
        "colab": {
          "base_uri": "https://localhost:8080/"
        },
        "id": "sU9Nobp0cf2a",
        "outputId": "0e44f48d-3060-47c6-b7e2-f45df978dc04"
      },
      "outputs": [
        {
          "name": "stdout",
          "output_type": "stream",
          "text": [
            "Before oversampling:  Counter({0: 195230, 1: 17057})\n",
            "After oversampling:  Counter({0: 195230, 1: 195230})\n"
          ]
        }
      ],
      "source": [
        "#Data preparation\n",
        "#Class Imbalance handling with SMOTE method\n",
        "from imblearn.over_sampling import SMOTE\n",
        "from collections import Counter\n",
        "\n",
        "# summarize class distribution\n",
        "print(\"Before oversampling: \",Counter(y_train))\n",
        "\n",
        "# define oversampling strategy\n",
        "SMOTE= SMOTE()\n",
        "\n",
        "# fit and apply the transform \n",
        "X_train, y_train= SMOTE.fit_resample(X_train, y_train)\n",
        "\n",
        "# summarize class distribution\n",
        "print(\"After oversampling: \",Counter(y_train))"
      ]
    },
    {
      "cell_type": "code",
      "execution_count": 123,
      "metadata": {
        "colab": {
          "base_uri": "https://localhost:8080/",
          "height": 264
        },
        "id": "0_ZUYKZ1cyMK",
        "outputId": "9e06f363-3f71-49d8-d40f-8e941488f137"
      },
      "outputs": [
        {
          "data": {
            "image/png": "[encoded data removed]",
            "text/plain": [
              "<Figure size 640x480 with 1 Axes>"
            ]
          },
          "metadata": {},
          "output_type": "display_data"
        }
      ],
      "source": [
        "#Data Train's TARGET distribution after oversampling\n",
        "import matplotlib.pyplot as plt\n",
        "import pandas as pd\n",
        "\n",
        "y_train.value_counts().plot(kind='pie')\n",
        "plt.title('Data Trains TARGET distribution after oversampling')\n",
        "plt.show()"
      ]
    },
    {
      "attachments": {},
      "cell_type": "markdown",
      "metadata": {},
      "source": [
        "#### Data Modeling"
      ]
    },
    {
      "cell_type": "code",
      "execution_count": 124,
      "metadata": {
        "colab": {
          "base_uri": "https://localhost:8080/"
        },
        "id": "VjyZUu_Ac-rp",
        "outputId": "3837a236-78cf-452c-fa4b-204ca4707ed1"
      },
      "outputs": [
        {
          "name": "stdout",
          "output_type": "stream",
          "text": [
            "model score: 0.589599446806331\n"
          ]
        }
      ],
      "source": [
        "#Data modeling\n",
        "#Classification with Logistic Regression\n",
        "from sklearn.linear_model import LogisticRegression\n",
        "lr = LogisticRegression()\n",
        "lr.fit(X_train, y_train)\n",
        "print('model score:', lr.score(X_train, y_train))"
      ]
    },
    {
      "cell_type": "code",
      "execution_count": 125,
      "metadata": {
        "colab": {
          "base_uri": "https://localhost:8080/"
        },
        "id": "fNBLImjwd5mb",
        "outputId": "8eb62ee0-8aed-47b5-fb85-6345e6997106"
      },
      "outputs": [
        {
          "name": "stdout",
          "output_type": "stream",
          "text": [
            "confusion matrix:\n",
            " [[59740 24952]\n",
            " [ 4326  3148]]\n",
            "\n",
            "Model report:\n",
            "               precision    recall  f1-score   support\n",
            "\n",
            "           0       0.93      0.71      0.80     84692\n",
            "           1       0.11      0.42      0.18      7474\n",
            "\n",
            "    accuracy                           0.68     92166\n",
            "   macro avg       0.52      0.56      0.49     92166\n",
            "weighted avg       0.87      0.68      0.75     92166\n",
            "\n"
          ]
        }
      ],
      "source": [
        "#Logistic regression model testing\n",
        "predict_lr = lr.predict(X_test)\n",
        "\n",
        "# Print results: \n",
        "from sklearn.metrics import classification_report, confusion_matrix\n",
        "\n",
        "print(\"confusion matrix:\\n\",confusion_matrix(y_test, predict_lr))\n",
        "print(\"\\nModel report:\\n\",classification_report(y_test, predict_lr))"
      ]
    },
    {
      "cell_type": "code",
      "execution_count": 127,
      "metadata": {
        "colab": {
          "base_uri": "https://localhost:8080/"
        },
        "id": "dwYQ4hZneF66",
        "outputId": "e4b59899-0a53-477d-bac9-43a69db98571"
      },
      "outputs": [
        {
          "name": "stdout",
          "output_type": "stream",
          "text": [
            "model score: 0.9885826973313527\n"
          ]
        }
      ],
      "source": [
        "#Data modeling\n",
        "#Classification with Decision Tree\n",
        "from sklearn.tree import DecisionTreeClassifier\n",
        "dt = DecisionTreeClassifier(random_state=42)\n",
        "\n",
        "dt.fit(X_train, y_train)\n",
        "print('model score:', dt.score(X_train, y_train))"
      ]
    },
    {
      "cell_type": "code",
      "execution_count": 128,
      "metadata": {
        "colab": {
          "base_uri": "https://localhost:8080/"
        },
        "id": "LnGa4yY1eNxX",
        "outputId": "364fff01-7686-426f-f37a-5832422c74dd"
      },
      "outputs": [
        {
          "name": "stdout",
          "output_type": "stream",
          "text": [
            "confusion matrix:\n",
            " [[23432 61260]\n",
            " [ 1929  5545]]\n",
            "\n",
            "Model report:\n",
            "               precision    recall  f1-score   support\n",
            "\n",
            "           0       0.92      0.28      0.43     84692\n",
            "           1       0.08      0.74      0.15      7474\n",
            "\n",
            "    accuracy                           0.31     92166\n",
            "   macro avg       0.50      0.51      0.29     92166\n",
            "weighted avg       0.86      0.31      0.40     92166\n",
            "\n"
          ]
        }
      ],
      "source": [
        "#Decision Tree model testing\n",
        "predict_dt = dt.predict(X_test)\n",
        "\n",
        "# Print results: \n",
        "from sklearn.metrics import classification_report, confusion_matrix\n",
        "\n",
        "print(\"confusion matrix:\\n\",confusion_matrix(y_test, predict_dt))\n",
        "print(\"\\nModel report:\\n\",classification_report(y_test, predict_dt))"
      ]
    },
    {
      "cell_type": "code",
      "execution_count": 129,
      "metadata": {},
      "outputs": [
        {
          "name": "stdout",
          "output_type": "stream",
          "text": [
            "model score: 0.9000614659632229\n"
          ]
        }
      ],
      "source": [
        "#Data modeling\n",
        "#Classification with Decision Tree\n",
        "from xgboost import XGBClassifier\n",
        "xg = XGBClassifier(random_state=42)\n",
        "\n",
        "xg.fit(X_train, y_train)\n",
        "print('model score:', xg.score(X_train, y_train))"
      ]
    },
    {
      "cell_type": "code",
      "execution_count": 130,
      "metadata": {},
      "outputs": [
        {
          "name": "stdout",
          "output_type": "stream",
          "text": [
            "confusion matrix:\n",
            " [[15575 69117]\n",
            " [ 1091  6383]]\n",
            "\n",
            "Model report:\n",
            "               precision    recall  f1-score   support\n",
            "\n",
            "           0       0.93      0.18      0.31     84692\n",
            "           1       0.08      0.85      0.15      7474\n",
            "\n",
            "    accuracy                           0.24     92166\n",
            "   macro avg       0.51      0.52      0.23     92166\n",
            "weighted avg       0.87      0.24      0.29     92166\n",
            "\n"
          ]
        }
      ],
      "source": [
        "#XGBoost model testing\n",
        "predict_xg = xg.predict(X_test)\n",
        "\n",
        "# Print results: \n",
        "from sklearn.metrics import classification_report, confusion_matrix\n",
        "\n",
        "print(\"confusion matrix:\\n\",confusion_matrix(y_test, predict_xg))\n",
        "print(\"\\nModel report:\\n\",classification_report(y_test, predict_xg))"
      ]
    },
    {
      "cell_type": "code",
      "execution_count": 131,
      "metadata": {},
      "outputs": [
        {
          "name": "stdout",
          "output_type": "stream",
          "text": [
            "model score: 0.9885801362495518\n"
          ]
        }
      ],
      "source": [
        "#Data modeling\n",
        "#Classification with Decision Tree\n",
        "from sklearn.ensemble import RandomForestClassifier\n",
        "rf = RandomForestClassifier(random_state=42)\n",
        "\n",
        "rf.fit(X_train, y_train)\n",
        "print('model score:', rf.score(X_train, y_train))"
      ]
    },
    {
      "cell_type": "code",
      "execution_count": 132,
      "metadata": {},
      "outputs": [
        {
          "name": "stdout",
          "output_type": "stream",
          "text": [
            "confusion matrix:\n",
            " [[51728 32964]\n",
            " [ 3931  3543]]\n",
            "\n",
            "Model report:\n",
            "               precision    recall  f1-score   support\n",
            "\n",
            "           0       0.93      0.61      0.74     84692\n",
            "           1       0.10      0.47      0.16      7474\n",
            "\n",
            "    accuracy                           0.60     92166\n",
            "   macro avg       0.51      0.54      0.45     92166\n",
            "weighted avg       0.86      0.60      0.69     92166\n",
            "\n"
          ]
        }
      ],
      "source": [
        "# Random Forest model testing\n",
        "predict_rf = rf.predict(X_test)\n",
        "\n",
        "# Print results: \n",
        "from sklearn.metrics import classification_report, confusion_matrix\n",
        "\n",
        "print(\"confusion matrix:\\n\",confusion_matrix(y_test, predict_rf))\n",
        "print(\"\\nModel report:\\n\",classification_report(y_test, predict_rf))"
      ]
    }
  ],
  "metadata": {
    "colab": {
      "provenance": []
    },
    "kernelspec": {
      "display_name": "Python 3",
      "language": "python",
      "name": "python3"
    },
    "language_info": {
      "codemirror_mode": {
        "name": "ipython",
        "version": 3
      },
      "file_extension": ".py",
      "mimetype": "text/x-python",
      "name": "python",
      "nbconvert_exporter": "python",
      "pygments_lexer": "ipython3",
      "version": "3.11.1"
    },
    "vscode": {
      "interpreter": {
        "hash": "d4d7936130eb51ec100b4c9b17ff08803180314c1aa7d803f0d72ac28862ddb3"
      }
    }
  },
  "nbformat": 4,
  "nbformat_minor": 0
}
