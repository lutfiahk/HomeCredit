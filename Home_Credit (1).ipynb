{
  "cells": [
    {
      "cell_type": "code",
      "execution_count": null,
      "metadata": {
        "colab": {
          "base_uri": "https://localhost:8080/"
        },
        "id": "S9HYzmABRfhr",
        "outputId": "c053f1c2-23f8-4ec1-edca-dee43c313eae"
      },
      "outputs": [
        {
          "name": "stdout",
          "output_type": "stream",
          "text": [
            "Drive already mounted at /content/drive; to attempt to forcibly remount, call drive.mount(\"/content/drive\", force_remount=True).\n"
          ]
        }
      ],
      "source": [
        "#Connect to gdrive\n",
        "from google.colab import drive\n",
        "drive.mount('/content/drive')"
      ]
    },
    {
      "cell_type": "code",
      "execution_count": null,
      "metadata": {
        "id": "15fpE6E8R6_f"
      },
      "outputs": [],
      "source": [
        "#importing data for modeling\n",
        "import pandas as pd\n",
        "datamodel=pd.read_csv('/content/drive/MyDrive/HomeCredit/application_train.csv')"
      ]
    },
    {
      "cell_type": "code",
      "execution_count": null,
      "metadata": {
        "colab": {
          "base_uri": "https://localhost:8080/"
        },
        "id": "Pfmzy4Q_SMn5",
        "outputId": "4e43cdfa-0fdb-46ac-9480-41a2364f6858"
      },
      "outputs": [
        {
          "name": "stdout",
          "output_type": "stream",
          "text": [
            "<class 'pandas.core.frame.DataFrame'>\n",
            "RangeIndex: 307511 entries, 0 to 307510\n",
            "Columns: 122 entries, SK_ID_CURR to AMT_REQ_CREDIT_BUREAU_YEAR\n",
            "dtypes: float64(65), int64(41), object(16)\n",
            "memory usage: 286.2+ MB\n"
          ]
        }
      ],
      "source": [
        "#Data Understanding\n",
        "datamodel.info()"
      ]
    },
    {
      "cell_type": "code",
      "execution_count": null,
      "metadata": {
        "colab": {
          "base_uri": "https://localhost:8080/"
        },
        "id": "LuELTw2YTEH0",
        "outputId": "f97b69c2-e3c4-40a5-e2ae-c76accee3c71"
      },
      "outputs": [
        {
          "data": {
            "text/plain": [
              "Index(['SK_ID_CURR', 'TARGET', 'NAME_CONTRACT_TYPE', 'CODE_GENDER',\n",
              "       'FLAG_OWN_CAR', 'FLAG_OWN_REALTY', 'CNT_CHILDREN', 'AMT_INCOME_TOTAL',\n",
              "       'AMT_CREDIT', 'AMT_ANNUITY',\n",
              "       ...\n",
              "       'FLAG_DOCUMENT_18', 'FLAG_DOCUMENT_19', 'FLAG_DOCUMENT_20',\n",
              "       'FLAG_DOCUMENT_21', 'AMT_REQ_CREDIT_BUREAU_HOUR',\n",
              "       'AMT_REQ_CREDIT_BUREAU_DAY', 'AMT_REQ_CREDIT_BUREAU_WEEK',\n",
              "       'AMT_REQ_CREDIT_BUREAU_MON', 'AMT_REQ_CREDIT_BUREAU_QRT',\n",
              "       'AMT_REQ_CREDIT_BUREAU_YEAR'],\n",
              "      dtype='object', length=122)"
            ]
          },
          "execution_count": 73,
          "metadata": {},
          "output_type": "execute_result"
        }
      ],
      "source": [
        "#Data Understanding\n",
        "datamodel.columns"
      ]
    },
    {
      "cell_type": "code",
      "execution_count": null,
      "metadata": {
        "colab": {
          "base_uri": "https://localhost:8080/",
          "height": 393
        },
        "id": "BDSFGinLUrXU",
        "outputId": "b88df32e-057e-4783-9e6e-5c28c2730af7"
      },
      "outputs": [
        {
          "data": {
            "text/html": [
              "\n",
              "  <div id=\"df-6c22c5a1-b8ee-4a72-bb2e-3134165187f4\">\n",
              "    <div class=\"colab-df-container\">\n",
              "      <div>\n",
              "<style scoped>\n",
              "    .dataframe tbody tr th:only-of-type {\n",
              "        vertical-align: middle;\n",
              "    }\n",
              "\n",
              "    .dataframe tbody tr th {\n",
              "        vertical-align: top;\n",
              "    }\n",
              "\n",
              "    .dataframe thead th {\n",
              "        text-align: right;\n",
              "    }\n",
              "</style>\n",
              "<table border=\"1\" class=\"dataframe\">\n",
              "  <thead>\n",
              "    <tr style=\"text-align: right;\">\n",
              "      <th></th>\n",
              "      <th>SK_ID_CURR</th>\n",
              "      <th>TARGET</th>\n",
              "      <th>CNT_CHILDREN</th>\n",
              "      <th>AMT_INCOME_TOTAL</th>\n",
              "      <th>AMT_CREDIT</th>\n",
              "      <th>AMT_ANNUITY</th>\n",
              "      <th>AMT_GOODS_PRICE</th>\n",
              "      <th>REGION_POPULATION_RELATIVE</th>\n",
              "      <th>DAYS_BIRTH</th>\n",
              "      <th>DAYS_EMPLOYED</th>\n",
              "      <th>...</th>\n",
              "      <th>FLAG_DOCUMENT_18</th>\n",
              "      <th>FLAG_DOCUMENT_19</th>\n",
              "      <th>FLAG_DOCUMENT_20</th>\n",
              "      <th>FLAG_DOCUMENT_21</th>\n",
              "      <th>AMT_REQ_CREDIT_BUREAU_HOUR</th>\n",
              "      <th>AMT_REQ_CREDIT_BUREAU_DAY</th>\n",
              "      <th>AMT_REQ_CREDIT_BUREAU_WEEK</th>\n",
              "      <th>AMT_REQ_CREDIT_BUREAU_MON</th>\n",
              "      <th>AMT_REQ_CREDIT_BUREAU_QRT</th>\n",
              "      <th>AMT_REQ_CREDIT_BUREAU_YEAR</th>\n",
              "    </tr>\n",
              "  </thead>\n",
              "  <tbody>\n",
              "    <tr>\n",
              "      <th>count</th>\n",
              "      <td>307511.000000</td>\n",
              "      <td>307511.000000</td>\n",
              "      <td>307511.000000</td>\n",
              "      <td>3.075110e+05</td>\n",
              "      <td>3.075110e+05</td>\n",
              "      <td>307499.000000</td>\n",
              "      <td>3.072330e+05</td>\n",
              "      <td>307511.000000</td>\n",
              "      <td>307511.000000</td>\n",
              "      <td>307511.000000</td>\n",
              "      <td>...</td>\n",
              "      <td>307511.000000</td>\n",
              "      <td>307511.000000</td>\n",
              "      <td>307511.000000</td>\n",
              "      <td>307511.000000</td>\n",
              "      <td>265992.000000</td>\n",
              "      <td>265992.000000</td>\n",
              "      <td>265992.000000</td>\n",
              "      <td>265992.000000</td>\n",
              "      <td>265992.000000</td>\n",
              "      <td>265992.000000</td>\n",
              "    </tr>\n",
              "    <tr>\n",
              "      <th>mean</th>\n",
              "      <td>278180.518577</td>\n",
              "      <td>0.080729</td>\n",
              "      <td>0.417052</td>\n",
              "      <td>1.687979e+05</td>\n",
              "      <td>5.990260e+05</td>\n",
              "      <td>27108.573909</td>\n",
              "      <td>5.383962e+05</td>\n",
              "      <td>0.020868</td>\n",
              "      <td>-16036.995067</td>\n",
              "      <td>63815.045904</td>\n",
              "      <td>...</td>\n",
              "      <td>0.008130</td>\n",
              "      <td>0.000595</td>\n",
              "      <td>0.000507</td>\n",
              "      <td>0.000335</td>\n",
              "      <td>0.006402</td>\n",
              "      <td>0.007000</td>\n",
              "      <td>0.034362</td>\n",
              "      <td>0.267395</td>\n",
              "      <td>0.265474</td>\n",
              "      <td>1.899974</td>\n",
              "    </tr>\n",
              "    <tr>\n",
              "      <th>std</th>\n",
              "      <td>102790.175348</td>\n",
              "      <td>0.272419</td>\n",
              "      <td>0.722121</td>\n",
              "      <td>2.371231e+05</td>\n",
              "      <td>4.024908e+05</td>\n",
              "      <td>14493.737315</td>\n",
              "      <td>3.694465e+05</td>\n",
              "      <td>0.013831</td>\n",
              "      <td>4363.988632</td>\n",
              "      <td>141275.766519</td>\n",
              "      <td>...</td>\n",
              "      <td>0.089798</td>\n",
              "      <td>0.024387</td>\n",
              "      <td>0.022518</td>\n",
              "      <td>0.018299</td>\n",
              "      <td>0.083849</td>\n",
              "      <td>0.110757</td>\n",
              "      <td>0.204685</td>\n",
              "      <td>0.916002</td>\n",
              "      <td>0.794056</td>\n",
              "      <td>1.869295</td>\n",
              "    </tr>\n",
              "    <tr>\n",
              "      <th>min</th>\n",
              "      <td>100002.000000</td>\n",
              "      <td>0.000000</td>\n",
              "      <td>0.000000</td>\n",
              "      <td>2.565000e+04</td>\n",
              "      <td>4.500000e+04</td>\n",
              "      <td>1615.500000</td>\n",
              "      <td>4.050000e+04</td>\n",
              "      <td>0.000290</td>\n",
              "      <td>-25229.000000</td>\n",
              "      <td>-17912.000000</td>\n",
              "      <td>...</td>\n",
              "      <td>0.000000</td>\n",
              "      <td>0.000000</td>\n",
              "      <td>0.000000</td>\n",
              "      <td>0.000000</td>\n",
              "      <td>0.000000</td>\n",
              "      <td>0.000000</td>\n",
              "      <td>0.000000</td>\n",
              "      <td>0.000000</td>\n",
              "      <td>0.000000</td>\n",
              "      <td>0.000000</td>\n",
              "    </tr>\n",
              "    <tr>\n",
              "      <th>25%</th>\n",
              "      <td>189145.500000</td>\n",
              "      <td>0.000000</td>\n",
              "      <td>0.000000</td>\n",
              "      <td>1.125000e+05</td>\n",
              "      <td>2.700000e+05</td>\n",
              "      <td>16524.000000</td>\n",
              "      <td>2.385000e+05</td>\n",
              "      <td>0.010006</td>\n",
              "      <td>-19682.000000</td>\n",
              "      <td>-2760.000000</td>\n",
              "      <td>...</td>\n",
              "      <td>0.000000</td>\n",
              "      <td>0.000000</td>\n",
              "      <td>0.000000</td>\n",
              "      <td>0.000000</td>\n",
              "      <td>0.000000</td>\n",
              "      <td>0.000000</td>\n",
              "      <td>0.000000</td>\n",
              "      <td>0.000000</td>\n",
              "      <td>0.000000</td>\n",
              "      <td>0.000000</td>\n",
              "    </tr>\n",
              "    <tr>\n",
              "      <th>50%</th>\n",
              "      <td>278202.000000</td>\n",
              "      <td>0.000000</td>\n",
              "      <td>0.000000</td>\n",
              "      <td>1.471500e+05</td>\n",
              "      <td>5.135310e+05</td>\n",
              "      <td>24903.000000</td>\n",
              "      <td>4.500000e+05</td>\n",
              "      <td>0.018850</td>\n",
              "      <td>-15750.000000</td>\n",
              "      <td>-1213.000000</td>\n",
              "      <td>...</td>\n",
              "      <td>0.000000</td>\n",
              "      <td>0.000000</td>\n",
              "      <td>0.000000</td>\n",
              "      <td>0.000000</td>\n",
              "      <td>0.000000</td>\n",
              "      <td>0.000000</td>\n",
              "      <td>0.000000</td>\n",
              "      <td>0.000000</td>\n",
              "      <td>0.000000</td>\n",
              "      <td>1.000000</td>\n",
              "    </tr>\n",
              "    <tr>\n",
              "      <th>75%</th>\n",
              "      <td>367142.500000</td>\n",
              "      <td>0.000000</td>\n",
              "      <td>1.000000</td>\n",
              "      <td>2.025000e+05</td>\n",
              "      <td>8.086500e+05</td>\n",
              "      <td>34596.000000</td>\n",
              "      <td>6.795000e+05</td>\n",
              "      <td>0.028663</td>\n",
              "      <td>-12413.000000</td>\n",
              "      <td>-289.000000</td>\n",
              "      <td>...</td>\n",
              "      <td>0.000000</td>\n",
              "      <td>0.000000</td>\n",
              "      <td>0.000000</td>\n",
              "      <td>0.000000</td>\n",
              "      <td>0.000000</td>\n",
              "      <td>0.000000</td>\n",
              "      <td>0.000000</td>\n",
              "      <td>0.000000</td>\n",
              "      <td>0.000000</td>\n",
              "      <td>3.000000</td>\n",
              "    </tr>\n",
              "    <tr>\n",
              "      <th>max</th>\n",
              "      <td>456255.000000</td>\n",
              "      <td>1.000000</td>\n",
              "      <td>19.000000</td>\n",
              "      <td>1.170000e+08</td>\n",
              "      <td>4.050000e+06</td>\n",
              "      <td>258025.500000</td>\n",
              "      <td>4.050000e+06</td>\n",
              "      <td>0.072508</td>\n",
              "      <td>-7489.000000</td>\n",
              "      <td>365243.000000</td>\n",
              "      <td>...</td>\n",
              "      <td>1.000000</td>\n",
              "      <td>1.000000</td>\n",
              "      <td>1.000000</td>\n",
              "      <td>1.000000</td>\n",
              "      <td>4.000000</td>\n",
              "      <td>9.000000</td>\n",
              "      <td>8.000000</td>\n",
              "      <td>27.000000</td>\n",
              "      <td>261.000000</td>\n",
              "      <td>25.000000</td>\n",
              "    </tr>\n",
              "  </tbody>\n",
              "</table>\n",
              "<p>8 rows × 106 columns</p>\n",
              "</div>\n",
              "      <button class=\"colab-df-convert\" onclick=\"convertToInteractive('df-6c22c5a1-b8ee-4a72-bb2e-3134165187f4')\"\n",
              "              title=\"Convert this dataframe to an interactive table.\"\n",
              "              style=\"display:none;\">\n",
              "        \n",
              "  <svg xmlns=\"http://www.w3.org/2000/svg\" height=\"24px\"viewBox=\"0 0 24 24\"\n",
              "       width=\"24px\">\n",
              "    <path d=\"M0 0h24v24H0V0z\" fill=\"none\"/>\n",
              "    <path d=\"M18.56 5.44l.94 2.06.94-2.06 2.06-.94-2.06-.94-.94-2.06-.94 2.06-2.06.94zm-11 1L8.5 8.5l.94-2.06 2.06-.94-2.06-.94L8.5 2.5l-.94 2.06-2.06.94zm10 10l.94 2.06.94-2.06 2.06-.94-2.06-.94-.94-2.06-.94 2.06-2.06.94z\"/><path d=\"M17.41 7.96l-1.37-1.37c-.4-.4-.92-.59-1.43-.59-.52 0-1.04.2-1.43.59L10.3 9.45l-7.72 7.72c-.78.78-.78 2.05 0 2.83L4 21.41c.39.39.9.59 1.41.59.51 0 1.02-.2 1.41-.59l7.78-7.78 2.81-2.81c.8-.78.8-2.07 0-2.86zM5.41 20L4 18.59l7.72-7.72 1.47 1.35L5.41 20z\"/>\n",
              "  </svg>\n",
              "      </button>\n",
              "      \n",
              "  <style>\n",
              "    .colab-df-container {\n",
              "      display:flex;\n",
              "      flex-wrap:wrap;\n",
              "      gap: 12px;\n",
              "    }\n",
              "\n",
              "    .colab-df-convert {\n",
              "      background-color: #E8F0FE;\n",
              "      border: none;\n",
              "      border-radius: 50%;\n",
              "      cursor: pointer;\n",
              "      display: none;\n",
              "      fill: #1967D2;\n",
              "      height: 32px;\n",
              "      padding: 0 0 0 0;\n",
              "      width: 32px;\n",
              "    }\n",
              "\n",
              "    .colab-df-convert:hover {\n",
              "      background-color: #E2EBFA;\n",
              "      box-shadow: 0px 1px 2px rgba(60, 64, 67, 0.3), 0px 1px 3px 1px rgba(60, 64, 67, 0.15);\n",
              "      fill: #174EA6;\n",
              "    }\n",
              "\n",
              "    [theme=dark] .colab-df-convert {\n",
              "      background-color: #3B4455;\n",
              "      fill: #D2E3FC;\n",
              "    }\n",
              "\n",
              "    [theme=dark] .colab-df-convert:hover {\n",
              "      background-color: #434B5C;\n",
              "      box-shadow: 0px 1px 3px 1px rgba(0, 0, 0, 0.15);\n",
              "      filter: drop-shadow(0px 1px 2px rgba(0, 0, 0, 0.3));\n",
              "      fill: #FFFFFF;\n",
              "    }\n",
              "  </style>\n",
              "\n",
              "      <script>\n",
              "        const buttonEl =\n",
              "          document.querySelector('#df-6c22c5a1-b8ee-4a72-bb2e-3134165187f4 button.colab-df-convert');\n",
              "        buttonEl.style.display =\n",
              "          google.colab.kernel.accessAllowed ? 'block' : 'none';\n",
              "\n",
              "        async function convertToInteractive(key) {\n",
              "          const element = document.querySelector('#df-6c22c5a1-b8ee-4a72-bb2e-3134165187f4');\n",
              "          const dataTable =\n",
              "            await google.colab.kernel.invokeFunction('convertToInteractive',\n",
              "                                                     [key], {});\n",
              "          if (!dataTable) return;\n",
              "\n",
              "          const docLinkHtml = 'Like what you see? Visit the ' +\n",
              "            '<a target=\"_blank\" href=https://colab.research.google.com/notebooks/data_table.ipynb>data table notebook</a>'\n",
              "            + ' to learn more about interactive tables.';\n",
              "          element.innerHTML = '';\n",
              "          dataTable['output_type'] = 'display_data';\n",
              "          await google.colab.output.renderOutput(dataTable, element);\n",
              "          const docLink = document.createElement('div');\n",
              "          docLink.innerHTML = docLinkHtml;\n",
              "          element.appendChild(docLink);\n",
              "        }\n",
              "      </script>\n",
              "    </div>\n",
              "  </div>\n",
              "  "
            ],
            "text/plain": [
              "          SK_ID_CURR         TARGET   CNT_CHILDREN  AMT_INCOME_TOTAL  \\\n",
              "count  307511.000000  307511.000000  307511.000000      3.075110e+05   \n",
              "mean   278180.518577       0.080729       0.417052      1.687979e+05   \n",
              "std    102790.175348       0.272419       0.722121      2.371231e+05   \n",
              "min    100002.000000       0.000000       0.000000      2.565000e+04   \n",
              "25%    189145.500000       0.000000       0.000000      1.125000e+05   \n",
              "50%    278202.000000       0.000000       0.000000      1.471500e+05   \n",
              "75%    367142.500000       0.000000       1.000000      2.025000e+05   \n",
              "max    456255.000000       1.000000      19.000000      1.170000e+08   \n",
              "\n",
              "         AMT_CREDIT    AMT_ANNUITY  AMT_GOODS_PRICE  \\\n",
              "count  3.075110e+05  307499.000000     3.072330e+05   \n",
              "mean   5.990260e+05   27108.573909     5.383962e+05   \n",
              "std    4.024908e+05   14493.737315     3.694465e+05   \n",
              "min    4.500000e+04    1615.500000     4.050000e+04   \n",
              "25%    2.700000e+05   16524.000000     2.385000e+05   \n",
              "50%    5.135310e+05   24903.000000     4.500000e+05   \n",
              "75%    8.086500e+05   34596.000000     6.795000e+05   \n",
              "max    4.050000e+06  258025.500000     4.050000e+06   \n",
              "\n",
              "       REGION_POPULATION_RELATIVE     DAYS_BIRTH  DAYS_EMPLOYED  ...  \\\n",
              "count               307511.000000  307511.000000  307511.000000  ...   \n",
              "mean                     0.020868  -16036.995067   63815.045904  ...   \n",
              "std                      0.013831    4363.988632  141275.766519  ...   \n",
              "min                      0.000290  -25229.000000  -17912.000000  ...   \n",
              "25%                      0.010006  -19682.000000   -2760.000000  ...   \n",
              "50%                      0.018850  -15750.000000   -1213.000000  ...   \n",
              "75%                      0.028663  -12413.000000    -289.000000  ...   \n",
              "max                      0.072508   -7489.000000  365243.000000  ...   \n",
              "\n",
              "       FLAG_DOCUMENT_18  FLAG_DOCUMENT_19  FLAG_DOCUMENT_20  FLAG_DOCUMENT_21  \\\n",
              "count     307511.000000     307511.000000     307511.000000     307511.000000   \n",
              "mean           0.008130          0.000595          0.000507          0.000335   \n",
              "std            0.089798          0.024387          0.022518          0.018299   \n",
              "min            0.000000          0.000000          0.000000          0.000000   \n",
              "25%            0.000000          0.000000          0.000000          0.000000   \n",
              "50%            0.000000          0.000000          0.000000          0.000000   \n",
              "75%            0.000000          0.000000          0.000000          0.000000   \n",
              "max            1.000000          1.000000          1.000000          1.000000   \n",
              "\n",
              "       AMT_REQ_CREDIT_BUREAU_HOUR  AMT_REQ_CREDIT_BUREAU_DAY  \\\n",
              "count               265992.000000              265992.000000   \n",
              "mean                     0.006402                   0.007000   \n",
              "std                      0.083849                   0.110757   \n",
              "min                      0.000000                   0.000000   \n",
              "25%                      0.000000                   0.000000   \n",
              "50%                      0.000000                   0.000000   \n",
              "75%                      0.000000                   0.000000   \n",
              "max                      4.000000                   9.000000   \n",
              "\n",
              "       AMT_REQ_CREDIT_BUREAU_WEEK  AMT_REQ_CREDIT_BUREAU_MON  \\\n",
              "count               265992.000000              265992.000000   \n",
              "mean                     0.034362                   0.267395   \n",
              "std                      0.204685                   0.916002   \n",
              "min                      0.000000                   0.000000   \n",
              "25%                      0.000000                   0.000000   \n",
              "50%                      0.000000                   0.000000   \n",
              "75%                      0.000000                   0.000000   \n",
              "max                      8.000000                  27.000000   \n",
              "\n",
              "       AMT_REQ_CREDIT_BUREAU_QRT  AMT_REQ_CREDIT_BUREAU_YEAR  \n",
              "count              265992.000000               265992.000000  \n",
              "mean                    0.265474                    1.899974  \n",
              "std                     0.794056                    1.869295  \n",
              "min                     0.000000                    0.000000  \n",
              "25%                     0.000000                    0.000000  \n",
              "50%                     0.000000                    1.000000  \n",
              "75%                     0.000000                    3.000000  \n",
              "max                   261.000000                   25.000000  \n",
              "\n",
              "[8 rows x 106 columns]"
            ]
          },
          "execution_count": 74,
          "metadata": {},
          "output_type": "execute_result"
        }
      ],
      "source": [
        "#Data Understanding\n",
        "datamodel.describe()"
      ]
    },
    {
      "cell_type": "code",
      "execution_count": null,
      "metadata": {
        "id": "NpJMGw4RUuum"
      },
      "outputs": [],
      "source": [
        "#Data cleansing\n",
        "#replacing missing value of data train's OWN_CAR_AGE column with 0\n",
        "import numpy as np\n",
        "datamodel['OWN_CAR_AGE'] = datamodel['OWN_CAR_AGE'].replace(np.nan, 0)"
      ]
    },
    {
      "cell_type": "code",
      "execution_count": null,
      "metadata": {
        "id": "mAC3Ni6wjwBW"
      },
      "outputs": [],
      "source": [
        "#Data Cleansing\n",
        "#Delete the unused columns\n",
        "datamodel = datamodel.drop(['SK_ID_CURR','NAME_TYPE_SUITE','NAME_INCOME_TYPE','NAME_EDUCATION_TYPE','NAME_HOUSING_TYPE','OCCUPATION_TYPE','WEEKDAY_APPR_PROCESS_START','ORGANIZATION_TYPE','HOUSETYPE_MODE','WALLSMATERIAL_MODE'],axis=1)"
      ]
    },
    {
      "cell_type": "code",
      "execution_count": null,
      "metadata": {
        "colab": {
          "base_uri": "https://localhost:8080/"
        },
        "id": "QipFt6fqbFIl",
        "outputId": "55368968-abf3-4811-a016-b04207963a03"
      },
      "outputs": [
        {
          "name": "stdout",
          "output_type": "stream",
          "text": [
            "Data length before cleansing: 307511\n",
            "Number of missing data: 8541215\n",
            "Data length after cleansing: 30118\n",
            "Number of missing data after cleansing: 0\n"
          ]
        }
      ],
      "source": [
        "#Data cleansing\n",
        "#checking the missing data train\n",
        "print(\"Data length before cleansing:\",datamodel.shape[0])\n",
        "print(\"Number of missing data:\",datamodel.isna().sum().sum())\n",
        "\n",
        "#deleting the missing data train\n",
        "datamodel = datamodel.dropna()\n",
        "print(\"Data length after cleansing:\",datamodel.shape[0])\n",
        "print(\"Number of missing data after cleansing:\",datamodel.isna().sum().sum())"
      ]
    },
    {
      "cell_type": "code",
      "execution_count": null,
      "metadata": {
        "colab": {
          "base_uri": "https://localhost:8080/"
        },
        "id": "hYBZJG-RbVGk",
        "outputId": "7eb529e3-8a27-41e1-b7ce-041530722591"
      },
      "outputs": [
        {
          "name": "stdout",
          "output_type": "stream",
          "text": [
            "Number of duplicated data train 0\n"
          ]
        }
      ],
      "source": [
        "#Data cleansing\n",
        "#Checking the duplicated data\n",
        "print(\"Number of duplicated data train\",datamodel.duplicated().sum())"
      ]
    },
    {
      "cell_type": "code",
      "execution_count": null,
      "metadata": {
        "id": "2jWiIQ9zbZfB"
      },
      "outputs": [],
      "source": [
        "#Data preparation\n",
        "#Splitting data train to features and target dataframe\n",
        "Feature = datamodel.drop(['TARGET'],axis=1)\n",
        "Target = datamodel['TARGET']"
      ]
    },
    {
      "cell_type": "code",
      "execution_count": null,
      "metadata": {
        "id": "kqFX99x9b2lR"
      },
      "outputs": [],
      "source": [
        "#Data preparation\n",
        "#Transforming categorical data to numerical data\n",
        "Feature = pd.get_dummies(Feature)"
      ]
    },
    {
      "cell_type": "code",
      "execution_count": null,
      "metadata": {
        "id": "GnfuVi3PlaGa"
      },
      "outputs": [],
      "source": [
        "#Data preparation\n",
        "#Data normalization\n",
        "from sklearn import preprocessing\n",
        "import numpy as np\n",
        "scaler = preprocessing.StandardScaler().fit(Feature)\n",
        "Feature = scaler.transform(Feature)"
      ]
    },
    {
      "cell_type": "code",
      "execution_count": null,
      "metadata": {
        "id": "U3DYf-YXcIA1"
      },
      "outputs": [],
      "source": [
        "#Data preparation\n",
        "#splitting data (80% data train and 20% data test) \n",
        "from sklearn.model_selection import train_test_split\n",
        "Feature_train, Feature_test, Target_train, Target_test = train_test_split(Feature, Target, test_size=0.20,random_state=0)"
      ]
    },
    {
      "cell_type": "code",
      "execution_count": null,
      "metadata": {
        "colab": {
          "base_uri": "https://localhost:8080/"
        },
        "id": "vQfuVlEqcPN4",
        "outputId": "9bdbd6e7-e5f4-4979-c8d3-c447f055a1ea"
      },
      "outputs": [
        {
          "name": "stdout",
          "output_type": "stream",
          "text": [
            "Data train shape: (24094, 124)\n",
            "Target train shape: (24094,)\n",
            "Data test shape: (6024, 124)\n",
            "Target test shape: (6024,)\n"
          ]
        }
      ],
      "source": [
        "#Checking the length of data train and data test\n",
        "print('Data train shape:',Feature_train.shape)\n",
        "print('Target train shape:',Target_train.shape)\n",
        "print('Data test shape:',Feature_test.shape)\n",
        "print('Target test shape:',Target_test.shape)"
      ]
    },
    {
      "cell_type": "code",
      "execution_count": null,
      "metadata": {
        "colab": {
          "base_uri": "https://localhost:8080/",
          "height": 248
        },
        "id": "YFyfQfkoccd_",
        "outputId": "d9f5d3ff-774e-442b-e629-d36c75b13bac"
      },
      "outputs": [
        {
          "data": {
            "image/png": "[encoded data removed]",
            "text/plain": [
              "<Figure size 432x288 with 1 Axes>"
            ]
          },
          "metadata": {},
          "output_type": "display_data"
        }
      ],
      "source": [
        "#Data Train's TARGET distribution\n",
        "import matplotlib.pyplot as plt\n",
        "import pandas as pd\n",
        "\n",
        "Target_train.value_counts().plot(kind='pie')\n",
        "plt.show()"
      ]
    },
    {
      "cell_type": "code",
      "execution_count": null,
      "metadata": {
        "colab": {
          "base_uri": "https://localhost:8080/"
        },
        "id": "sU9Nobp0cf2a",
        "outputId": "0e44f48d-3060-47c6-b7e2-f45df978dc04"
      },
      "outputs": [
        {
          "name": "stdout",
          "output_type": "stream",
          "text": [
            "Before oversampling:  Counter({0: 22525, 1: 1569})\n",
            "After oversampling:  Counter({0: 22525, 1: 22525})\n"
          ]
        }
      ],
      "source": [
        "#Data preparation\n",
        "#Class Imbalance handling with SMOTE method\n",
        "from imblearn.over_sampling import SMOTE\n",
        "from collections import Counter\n",
        "\n",
        "# summarize class distribution\n",
        "print(\"Before oversampling: \",Counter(Target_train))\n",
        "\n",
        "# define oversampling strategy\n",
        "SMOTE= SMOTE()\n",
        "\n",
        "# fit and apply the transform \n",
        "Feature_train,Target_train= SMOTE.fit_resample(Feature_train,Target_train)\n",
        "\n",
        "# summarize class distribution\n",
        "print(\"After oversampling: \",Counter(Target_train))"
      ]
    },
    {
      "cell_type": "code",
      "execution_count": null,
      "metadata": {
        "colab": {
          "base_uri": "https://localhost:8080/",
          "height": 264
        },
        "id": "0_ZUYKZ1cyMK",
        "outputId": "9e06f363-3f71-49d8-d40f-8e941488f137"
      },
      "outputs": [
        {
          "data": {
            "image/png": "[encoded data removed]",
            "text/plain": [
              "<Figure size 432x288 with 1 Axes>"
            ]
          },
          "metadata": {},
          "output_type": "display_data"
        }
      ],
      "source": [
        "#Data Train's TARGET distribution after oversampling\n",
        "import matplotlib.pyplot as plt\n",
        "import pandas as pd\n",
        "\n",
        "Target_train.value_counts().plot(kind='pie')\n",
        "plt.title('Data Trains TARGET distribution after oversampling')\n",
        "plt.show()"
      ]
    },
    {
      "cell_type": "code",
      "source": [
        "#Checking the length of data train and data test\n",
        "print('Data train shape:',Feature_train.shape)\n",
        "print('Target train shape:',Target_train.shape)\n",
        "print('Target train count:\\n',Target_train.value_counts())"
      ],
      "metadata": {
        "colab": {
          "base_uri": "https://localhost:8080/"
        },
        "id": "NVS8MC9IO2ke",
        "outputId": "544317f5-def7-4282-bee5-1238515dba32"
      },
      "execution_count": 120,
      "outputs": [
        {
          "output_type": "stream",
          "name": "stdout",
          "text": [
            "Data train shape: (45050, 124)\n",
            "Target train shape: (45050,)\n",
            "Target train count:\n",
            " 0    22525\n",
            "1    22525\n",
            "Name: TARGET, dtype: int64\n"
          ]
        }
      ]
    },
    {
      "cell_type": "code",
      "execution_count": null,
      "metadata": {
        "colab": {
          "base_uri": "https://localhost:8080/"
        },
        "id": "VjyZUu_Ac-rp",
        "outputId": "3837a236-78cf-452c-fa4b-204ca4707ed1"
      },
      "outputs": [
        {
          "name": "stdout",
          "output_type": "stream",
          "text": [
            "model score: 0.7250610432852386\n"
          ]
        },
        {
          "name": "stderr",
          "output_type": "stream",
          "text": [
            "/usr/local/lib/python3.7/dist-packages/sklearn/linear_model/_logistic.py:818: ConvergenceWarning: lbfgs failed to converge (status=1):\n",
            "STOP: TOTAL NO. of ITERATIONS REACHED LIMIT.\n",
            "\n",
            "Increase the number of iterations (max_iter) or scale the data as shown in:\n",
            "    https://scikit-learn.org/stable/modules/preprocessing.html\n",
            "Please also refer to the documentation for alternative solver options:\n",
            "    https://scikit-learn.org/stable/modules/linear_model.html#logistic-regression\n",
            "  extra_warning_msg=_LOGISTIC_SOLVER_CONVERGENCE_MSG,\n"
          ]
        }
      ],
      "source": [
        "#Data modeling\n",
        "#Classification with Logistic Regression\n",
        "from sklearn.linear_model import LogisticRegression\n",
        "model = LogisticRegression()\n",
        "model.fit(Feature_train,Target_train)\n",
        "print('model score:',model.score(Feature_train,Target_train))"
      ]
    },
    {
      "cell_type": "code",
      "execution_count": null,
      "metadata": {
        "colab": {
          "base_uri": "https://localhost:8080/"
        },
        "id": "fNBLImjwd5mb",
        "outputId": "8eb62ee0-8aed-47b5-fb85-6345e6997106"
      },
      "outputs": [
        {
          "name": "stdout",
          "output_type": "stream",
          "text": [
            "confusion matrix:\n",
            " [[4003 1635]\n",
            " [ 140  246]]\n",
            "\n",
            "Model report:\n",
            "               precision    recall  f1-score   support\n",
            "\n",
            "           0       0.97      0.71      0.82      5638\n",
            "           1       0.13      0.64      0.22       386\n",
            "\n",
            "    accuracy                           0.71      6024\n",
            "   macro avg       0.55      0.67      0.52      6024\n",
            "weighted avg       0.91      0.71      0.78      6024\n",
            "\n"
          ]
        }
      ],
      "source": [
        "#Logistic regression model testing\n",
        "predict = model.predict(Feature_test)\n",
        "\n",
        "# Print results: \n",
        "from sklearn.metrics import classification_report, confusion_matrix\n",
        "\n",
        "print(\"confusion matrix:\\n\",confusion_matrix(Target_test, predict))\n",
        "print(\"\\nModel report:\\n\",classification_report(Target_test, predict))"
      ]
    },
    {
      "cell_type": "code",
      "execution_count": null,
      "metadata": {
        "colab": {
          "base_uri": "https://localhost:8080/"
        },
        "id": "dwYQ4hZneF66",
        "outputId": "e4b59899-0a53-477d-bac9-43a69db98571"
      },
      "outputs": [
        {
          "name": "stdout",
          "output_type": "stream",
          "text": [
            "model score: 1.0\n"
          ]
        }
      ],
      "source": [
        "#Data modeling\n",
        "#Classification with Random Forest\n",
        "from sklearn.ensemble import RandomForestClassifier\n",
        "\n",
        "model2=RandomForestClassifier(n_estimators=100,random_state=42)\n",
        "model2.fit(Feature_train, Target_train)\n",
        "print('model score:',model2.score(Feature_train,Target_train))"
      ]
    },
    {
      "cell_type": "code",
      "execution_count": null,
      "metadata": {
        "colab": {
          "base_uri": "https://localhost:8080/"
        },
        "id": "LnGa4yY1eNxX",
        "outputId": "364fff01-7686-426f-f37a-5832422c74dd"
      },
      "outputs": [
        {
          "name": "stdout",
          "output_type": "stream",
          "text": [
            "confusion matrix:\n",
            " [[5625   13]\n",
            " [ 383    3]]\n",
            "\n",
            "Model report:\n",
            "               precision    recall  f1-score   support\n",
            "\n",
            "           0       0.94      1.00      0.97      5638\n",
            "           1       0.19      0.01      0.01       386\n",
            "\n",
            "    accuracy                           0.93      6024\n",
            "   macro avg       0.56      0.50      0.49      6024\n",
            "weighted avg       0.89      0.93      0.91      6024\n",
            "\n"
          ]
        }
      ],
      "source": [
        "#Random Forest model testing\n",
        "predict2 = model2.predict(Feature_test)\n",
        "\n",
        "# Print results: \n",
        "from sklearn.metrics import classification_report, confusion_matrix\n",
        "\n",
        "print(\"confusion matrix:\\n\",confusion_matrix(Target_test, predict2))\n",
        "print(\"\\nModel report:\\n\",classification_report(Target_test, predict2))"
      ]
    },
    {
      "cell_type": "code",
      "execution_count": null,
      "metadata": {
        "colab": {
          "background_save": true,
          "base_uri": "https://localhost:8080/"
        },
        "id": "EaYyoFnTetnB",
        "outputId": "2c30767f-0aa0-4bdc-cbe0-4e48b4469688"
      },
      "outputs": [
        {
          "name": "stdout",
          "output_type": "stream",
          "text": [
            "model score: 0.9384683684794672\n"
          ]
        }
      ],
      "source": [
        "#Data modeling\n",
        "#Classification with Support Vector Machine\n",
        "from sklearn.svm import SVC\n",
        "model3 = SVC()\n",
        "model3.fit(Feature_train, Target_train)\n",
        "\n",
        "print('model score:',model3.score(Feature_train,Target_train))"
      ]
    },
    {
      "cell_type": "code",
      "execution_count": 121,
      "metadata": {
        "id": "N36p-9Dje6JL",
        "colab": {
          "base_uri": "https://localhost:8080/"
        },
        "outputId": "e9bcf3f5-86ca-4b7e-e105-8944bb27fc9f"
      },
      "outputs": [
        {
          "output_type": "stream",
          "name": "stdout",
          "text": [
            "confusion matrix:\n",
            " [[4941  697]\n",
            " [ 266  120]]\n",
            "\n",
            "Model report:\n",
            "               precision    recall  f1-score   support\n",
            "\n",
            "           0       0.95      0.88      0.91      5638\n",
            "           1       0.15      0.31      0.20       386\n",
            "\n",
            "    accuracy                           0.84      6024\n",
            "   macro avg       0.55      0.59      0.56      6024\n",
            "weighted avg       0.90      0.84      0.87      6024\n",
            "\n"
          ]
        }
      ],
      "source": [
        "#Random Forest model testing\n",
        "predict3 = model3.predict(Feature_test)\n",
        "\n",
        "# Print results: \n",
        "from sklearn.metrics import classification_report, confusion_matrix\n",
        "\n",
        "print(\"confusion matrix:\\n\",confusion_matrix(Target_test, predict3))\n",
        "print(\"\\nModel report:\\n\",classification_report(Target_test, predict3)) "
      ]
    },
    {
      "cell_type": "code",
      "execution_count": 106,
      "metadata": {
        "colab": {
          "base_uri": "https://localhost:8080/"
        },
        "id": "6dAadZwuf43B",
        "outputId": "dfd30348-634d-4862-a5f3-87be488c357d"
      },
      "outputs": [
        {
          "output_type": "stream",
          "name": "stdout",
          "text": [
            "<class 'pandas.core.frame.DataFrame'>\n",
            "RangeIndex: 48744 entries, 0 to 48743\n",
            "Columns: 121 entries, SK_ID_CURR to AMT_REQ_CREDIT_BUREAU_YEAR\n",
            "dtypes: float64(65), int64(40), object(16)\n",
            "memory usage: 45.0+ MB\n"
          ]
        }
      ],
      "source": [
        "#Data prediction with new data\n",
        "#importing the new data\n",
        "newapplication = pd.read_csv('/content/drive/MyDrive/HomeCredit/application_test.csv')\n",
        "newapplication.info()"
      ]
    },
    {
      "cell_type": "code",
      "execution_count": 107,
      "metadata": {
        "id": "RrUl7s_kHryP"
      },
      "outputs": [],
      "source": [
        "#Data cleansing\n",
        "#replacing missing value of data train's OWN_CAR_AGE column with 0\n",
        "import numpy as np\n",
        "newapplication['OWN_CAR_AGE'] = newapplication['OWN_CAR_AGE'].replace(np.nan, 0)"
      ]
    },
    {
      "cell_type": "code",
      "execution_count": 108,
      "metadata": {
        "id": "9XBazpabgFYK",
        "colab": {
          "base_uri": "https://localhost:8080/"
        },
        "outputId": "7d2581e1-e5bc-488c-e959-0f57b18ac847"
      },
      "outputs": [
        {
          "output_type": "stream",
          "name": "stdout",
          "text": [
            "Data test's length before cleansing 48744\n",
            "Number of missing data before cleansing 1372107\n",
            "Data test's length after cleansing 4733\n",
            "Number of missing data after cleansing 0\n"
          ]
        }
      ],
      "source": [
        "#checking the missing data of new data\n",
        "print(\"Data test's length before cleansing\",newapplication.shape[0])\n",
        "print(\"Number of missing data before cleansing\",newapplication.isna().sum().sum())\n",
        "\n",
        "#deleting the missing data test\n",
        "newapplication = newapplication.dropna()\n",
        "print(\"Data test's length after cleansing\",newapplication.shape[0])\n",
        "print(\"Number of missing data after cleansing\",newapplication.isna().sum().sum())"
      ]
    },
    {
      "cell_type": "code",
      "execution_count": 109,
      "metadata": {
        "id": "wjsMufE6gd2n",
        "colab": {
          "base_uri": "https://localhost:8080/"
        },
        "outputId": "33f5c668-773e-4bc3-d8c2-6f3539277df6"
      },
      "outputs": [
        {
          "output_type": "stream",
          "name": "stdout",
          "text": [
            "Number of duplicated data test 0\n"
          ]
        }
      ],
      "source": [
        "#checking the duplicated data of new data\n",
        "print(\"Number of duplicated data test\",newapplication.duplicated().sum())"
      ]
    },
    {
      "cell_type": "code",
      "execution_count": 110,
      "metadata": {
        "id": "IbMBjLqQhHWz"
      },
      "outputs": [],
      "source": [
        "#Deleting unused column\n",
        "newdata = newapplication.drop(['SK_ID_CURR','NAME_TYPE_SUITE','NAME_INCOME_TYPE','NAME_EDUCATION_TYPE','NAME_HOUSING_TYPE','OCCUPATION_TYPE','WEEKDAY_APPR_PROCESS_START','ORGANIZATION_TYPE','HOUSETYPE_MODE','WALLSMATERIAL_MODE'],axis=1)"
      ]
    },
    {
      "cell_type": "code",
      "execution_count": 111,
      "metadata": {
        "id": "zPEYEAQUgkHT"
      },
      "outputs": [],
      "source": [
        "#Transforming categorical data to numerical data\n",
        "newdata = pd.get_dummies(newdata)"
      ]
    },
    {
      "cell_type": "code",
      "execution_count": 112,
      "metadata": {
        "id": "GFL5YtFPg2u5"
      },
      "outputs": [],
      "source": [
        "#Filling the blank data\n",
        "newdata['CODE_GENDER_XNA'] = 0\n",
        "newdata['FLAG_OWN_CAR_N'] = 0"
      ]
    },
    {
      "cell_type": "code",
      "execution_count": 113,
      "metadata": {
        "id": "sJvIkJBUhXY3",
        "colab": {
          "base_uri": "https://localhost:8080/"
        },
        "outputId": "72cfb9ba-6d77-493c-e00a-4cd604b74bb0"
      },
      "outputs": [
        {
          "output_type": "stream",
          "name": "stdout",
          "text": [
            "Shape of Features Dataframe (45050, 124)\n",
            "Shape of Target Dataframe (4733, 124)\n"
          ]
        }
      ],
      "source": [
        "#The length of Data train and the new data\n",
        "print('Shape of Features Dataframe',Feature_train.shape)\n",
        "print('Shape of Target Dataframe',newdata.shape)"
      ]
    },
    {
      "cell_type": "code",
      "execution_count": 114,
      "metadata": {
        "id": "JqzhMABcjK_X"
      },
      "outputs": [],
      "source": [
        "#New Data normalization\n",
        "from sklearn import preprocessing\n",
        "import numpy as np\n",
        "scaler = preprocessing.StandardScaler().fit(newdata)\n",
        "newdata = scaler.transform(newdata)"
      ]
    },
    {
      "cell_type": "code",
      "execution_count": 115,
      "metadata": {
        "id": "nhA-6ifkixYu"
      },
      "outputs": [],
      "source": [
        "#Predict the classification of new data\n",
        "newdata_prediction = model2.predict(newdata)"
      ]
    },
    {
      "cell_type": "code",
      "execution_count": 124,
      "metadata": {
        "id": "aPOaSLAqjZwW",
        "colab": {
          "base_uri": "https://localhost:8080/",
          "height": 337
        },
        "outputId": "2fde8d15-883c-4fe5-9912-aec138df3b6b"
      },
      "outputs": [
        {
          "output_type": "stream",
          "name": "stdout",
          "text": [
            "Target Label counts:\n",
            " 1    4493\n",
            "0     240\n",
            "dtype: int64\n"
          ]
        },
        {
          "output_type": "display_data",
          "data": {
            "text/plain": [
              "<Figure size 432x288 with 1 Axes>"
            ],
            "image/png": "[encoded data removed]"
          },
          "metadata": {}
        }
      ],
      "source": [
        "#Data prediction distribution\n",
        "import matplotlib.pyplot as plt\n",
        "import pandas as pd\n",
        "\n",
        "print('Target Label counts:\\n',pd.DataFrame(newdata_prediction).value_counts())\n",
        "pd.DataFrame(newdata_prediction).value_counts().plot(kind='pie')\n",
        "plt.title('Distribution of Target Prediction')\n",
        "plt.show()"
      ]
    },
    {
      "cell_type": "code",
      "execution_count": 123,
      "metadata": {
        "id": "nHTVkLsqljfU",
        "colab": {
          "base_uri": "https://localhost:8080/"
        },
        "outputId": "2a45bdfd-1ea8-4742-edd2-f88237420938"
      },
      "outputs": [
        {
          "output_type": "stream",
          "name": "stdout",
          "text": [
            "       SK_ID_CURR  TARGET\n",
            "3          100028       1\n",
            "15         100107       1\n",
            "18         100128       1\n",
            "20         100150       1\n",
            "33         100245       1\n",
            "...           ...     ...\n",
            "48710      455959       1\n",
            "48713      455962       1\n",
            "48719      456010       1\n",
            "48724      456111       1\n",
            "48727      456116       1\n",
            "\n",
            "[4733 rows x 2 columns]\n"
          ]
        }
      ],
      "source": [
        "#Add the Target Prediction to the Dataset\n",
        "newapplication['TARGET']=newdata_prediction\n",
        "DataFinal = newapplication[['SK_ID_CURR','TARGET']]\n",
        "print(DataFinal)"
      ]
    },
    {
      "cell_type": "code",
      "execution_count": null,
      "metadata": {
        "id": "aHnIpo7VsJyW"
      },
      "outputs": [],
      "source": [
        "#Export the Data Final\n",
        "DataFinal.to_csv('DataFinal.csv')"
      ]
    }
  ],
  "metadata": {
    "colab": {
      "provenance": []
    },
    "kernelspec": {
      "display_name": "Python 3",
      "name": "python3"
    },
    "language_info": {
      "name": "python"
    }
  },
  "nbformat": 4,
  "nbformat_minor": 0
}